{
 "cells": [
  {
   "cell_type": "code",
   "execution_count": 1,
   "metadata": {},
   "outputs": [],
   "source": [
    "import numpy as np\n",
    "import qiskit.quantum_info as qi\n",
    "\n",
    "from qiskit_dynamics import dispatch\n",
    "from qiskit_dynamics.dispatch import Array"
   ]
  },
  {
   "cell_type": "markdown",
   "metadata": {},
   "source": [
    "### Array class\n",
    "\n",
    "The `Array` class can wrap different ndarray backends. For now just the numpy ndarray (`backend = 'numpy'`) or a Jax DeviceArray (`backend = 'jax'`). This functionality should eventually be moved into the `qiskit.quantum_info` module."
   ]
  },
  {
   "cell_type": "code",
   "execution_count": 2,
   "metadata": {},
   "outputs": [
    {
     "data": {
      "text/plain": [
       "Array([0, 1, 2, 3, 4, 5, 6, 7, 8, 9], backend='numpy')"
      ]
     },
     "execution_count": 2,
     "metadata": {},
     "output_type": "execute_result"
    }
   ],
   "source": [
    "# Initialize an Array\n",
    "\n",
    "a = Array(np.arange(10))\n",
    "a"
   ]
  },
  {
   "cell_type": "code",
   "execution_count": 3,
   "metadata": {},
   "outputs": [
    {
     "data": {
      "text/plain": [
       "array([0, 1, 2, 3, 4, 5, 6, 7, 8, 9])"
      ]
     },
     "execution_count": 3,
     "metadata": {},
     "output_type": "execute_result"
    }
   ],
   "source": [
    "# See inner array\n",
    "\n",
    "a.data"
   ]
  },
  {
   "cell_type": "code",
   "execution_count": 4,
   "metadata": {},
   "outputs": [
    {
     "data": {
      "text/plain": [
       "Array([ 3.        ,  2.4623779 , -0.33914308, -2.82885748, -2.71773336,\n",
       "       -0.10793772,  2.60109536,  2.91869336,  0.55285815, -2.3212723 ],\n",
       "      backend='numpy')"
      ]
     },
     "execution_count": 4,
     "metadata": {},
     "output_type": "execute_result"
    }
   ],
   "source": [
    "# Work with numpy ufuncs\n",
    "\n",
    "np.sin(a) + 3 * np.cos(a)"
   ]
  },
  {
   "cell_type": "code",
   "execution_count": 5,
   "metadata": {},
   "outputs": [
    {
     "data": {
      "text/plain": [
       "Array([0, 1, 2, 3, 4, 5, 6, 7, 8, 9], backend='numpy')"
      ]
     },
     "execution_count": 5,
     "metadata": {},
     "output_type": "execute_result"
    }
   ],
   "source": [
    "# Work with numpy array functions\n",
    "\n",
    "a.real"
   ]
  },
  {
   "cell_type": "code",
   "execution_count": 6,
   "metadata": {},
   "outputs": [
    {
     "data": {
      "text/plain": [
       "Array([[0, 1, 2, 3, 4],\n",
       "       [5, 6, 7, 8, 9]], backend='numpy')"
      ]
     },
     "execution_count": 6,
     "metadata": {},
     "output_type": "execute_result"
    }
   ],
   "source": [
    "# Call attribute of wrapped array\n",
    "\n",
    "a.reshape((2, 5))"
   ]
  },
  {
   "cell_type": "markdown",
   "metadata": {},
   "source": [
    "### Using Array backends"
   ]
  },
  {
   "cell_type": "code",
   "execution_count": 7,
   "metadata": {},
   "outputs": [
    {
     "data": {
      "text/plain": [
       "('numpy', 'jax')"
      ]
     },
     "execution_count": 7,
     "metadata": {},
     "output_type": "execute_result"
    }
   ],
   "source": [
    "# See available Array backends\n",
    "\n",
    "dispatch.available_backends()"
   ]
  },
  {
   "cell_type": "code",
   "execution_count": 8,
   "metadata": {},
   "outputs": [
    {
     "name": "stderr",
     "output_type": "stream",
     "text": [
      "WARNING:absl:No GPU/TPU found, falling back to CPU. (Set TF_CPP_MIN_LOG_LEVEL=0 and rerun for more info.)\n"
     ]
    },
    {
     "data": {
      "text/plain": [
       "Array([0, 1, 2, 3, 4, 5, 6, 7, 8, 9], backend='jax')"
      ]
     },
     "execution_count": 8,
     "metadata": {},
     "output_type": "execute_result"
    }
   ],
   "source": [
    "# Enable double precision jax\n",
    "import jax\n",
    "\n",
    "jax.config.update(\"jax_enable_x64\", True)\n",
    "\n",
    "b = Array(np.arange(10), backend='jax')\n",
    "b"
   ]
  },
  {
   "cell_type": "code",
   "execution_count": 9,
   "metadata": {},
   "outputs": [
    {
     "data": {
      "text/plain": [
       "DeviceArray([0, 1, 2, 3, 4, 5, 6, 7, 8, 9], dtype=int64)"
      ]
     },
     "execution_count": 9,
     "metadata": {},
     "output_type": "execute_result"
    }
   ],
   "source": [
    "# See inner array\n",
    "\n",
    "b.data"
   ]
  },
  {
   "cell_type": "code",
   "execution_count": 10,
   "metadata": {},
   "outputs": [
    {
     "data": {
      "text/plain": [
       "Array([ 3.        ,  2.4623779 , -0.33914308, -2.82885748, -2.71773336,\n",
       "       -0.10793772,  2.60109536,  2.91869336,  0.55285815, -2.3212723 ],\n",
       "      backend='jax')"
      ]
     },
     "execution_count": 10,
     "metadata": {},
     "output_type": "execute_result"
    }
   ],
   "source": [
    "# Work with numpy ufuncs\n",
    "\n",
    "np.sin(b) + 3 * np.cos(b)"
   ]
  },
  {
   "cell_type": "code",
   "execution_count": 11,
   "metadata": {},
   "outputs": [
    {
     "data": {
      "text/plain": [
       "Array(285, backend='jax')"
      ]
     },
     "execution_count": 11,
     "metadata": {},
     "output_type": "execute_result"
    }
   ],
   "source": [
    "# Work with numpy array functions\n",
    "\n",
    "np.dot(b, b)"
   ]
  },
  {
   "cell_type": "markdown",
   "metadata": {},
   "source": [
    "### Using Array in other classes"
   ]
  },
  {
   "cell_type": "code",
   "execution_count": 12,
   "metadata": {},
   "outputs": [],
   "source": [
    "# Set Jax as default backend\n",
    "\n",
    "dispatch.set_default_backend('jax')"
   ]
  },
  {
   "cell_type": "code",
   "execution_count": 13,
   "metadata": {},
   "outputs": [],
   "source": [
    "def obj(theta):\n",
    "    \"\"\"Toy objective function\"\"\"\n",
    "    # Need to wrap Operators in Array until qinfo integration is done\n",
    "    I = Array(qi.Operator.from_label('I'))  \n",
    "    Y = Array(qi.Operator.from_label('Y'))\n",
    "    \n",
    "    # Need to wrap parameters in array to handle Jax jit/grad dispatch\n",
    "    cos = np.cos(Array(theta) / 2)\n",
    "    sin = np.sin(Array(theta) / 2)\n",
    "\n",
    "    op = cos * I + sin * Y\n",
    "    val = np.abs(np.trace(np.dot(op, Y)))\n",
    "    return val"
   ]
  },
  {
   "cell_type": "code",
   "execution_count": 14,
   "metadata": {},
   "outputs": [
    {
     "data": {
      "text/plain": [
       "Array(0.09995834)"
      ]
     },
     "execution_count": 14,
     "metadata": {},
     "output_type": "execute_result"
    }
   ],
   "source": [
    "# Test objective\n",
    "\n",
    "obj(0.1)"
   ]
  },
  {
   "cell_type": "markdown",
   "metadata": {},
   "source": [
    "### Wrapping 3rd-party library functions to work with arrays"
   ]
  },
  {
   "cell_type": "code",
   "execution_count": 15,
   "metadata": {},
   "outputs": [
    {
     "data": {
      "text/plain": [
       "(Array(0.09995834), Array(0.99875026), (Array(0.09995834), Array(0.99875026)))"
      ]
     },
     "execution_count": 15,
     "metadata": {},
     "output_type": "execute_result"
    }
   ],
   "source": [
    "# Wrap jax functions\n",
    "\n",
    "jit = dispatch.wrap(jax.jit, decorator=True)\n",
    "grad = dispatch.wrap(jax.grad, decorator=True)\n",
    "value_and_grad = dispatch.wrap(jax.value_and_grad, decorator=True)\n",
    "\n",
    "f = jit(obj)\n",
    "g = grad(obj)\n",
    "h = value_and_grad(obj)\n",
    "\n",
    "f(0.1), g(0.1), h(0.1)"
   ]
  },
  {
   "cell_type": "markdown",
   "metadata": {},
   "source": [
    "### Jax OdeInt"
   ]
  },
  {
   "cell_type": "code",
   "execution_count": 16,
   "metadata": {},
   "outputs": [],
   "source": [
    "from jax.experimental.ode import odeint as jax_odeint\n",
    "\n",
    "# Wrap jax odeint function\n",
    "odeint = dispatch.wrap(jax_odeint)"
   ]
  },
  {
   "cell_type": "code",
   "execution_count": 17,
   "metadata": {},
   "outputs": [],
   "source": [
    "def sample_rhs(y, t):\n",
    "    return y\n",
    "\n",
    "y0 = Array([0., 1., 2.], dtype=float)\n",
    "t = Array([0., 1., 2.], dtype=float)"
   ]
  },
  {
   "cell_type": "code",
   "execution_count": 18,
   "metadata": {},
   "outputs": [
    {
     "data": {
      "text/plain": [
       "Array([[ 0.        ,  1.        ,  2.        ],\n",
       "       [ 0.        ,  2.71828183,  5.43656366],\n",
       "       [ 0.        ,  7.3890561 , 14.7781122 ]])"
      ]
     },
     "execution_count": 18,
     "metadata": {},
     "output_type": "execute_result"
    }
   ],
   "source": [
    "results = odeint(sample_rhs, y0, t, atol=1e-10, rtol=1e-10)\n",
    "results"
   ]
  }
 ],
 "metadata": {
  "kernelspec": {
   "display_name": "Python 3",
   "language": "python",
   "name": "python3"
  },
  "language_info": {
   "codemirror_mode": {
    "name": "ipython",
    "version": 3
   },
   "file_extension": ".py",
   "mimetype": "text/x-python",
   "name": "python",
   "nbconvert_exporter": "python",
   "pygments_lexer": "ipython3",
   "version": "3.9.4"
  }
 },
 "nbformat": 4,
 "nbformat_minor": 4
}
