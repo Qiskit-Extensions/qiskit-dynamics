{
 "cells": [
  {
   "cell_type": "code",
   "execution_count": 1,
   "source": [
    "import numpy as np\n",
    "import qiskit.quantum_info as qi\n",
    "\n",
    "from qiskit_dynamics import dispatch\n",
    "from qiskit_dynamics.dispatch import Array"
   ],
   "outputs": [],
   "metadata": {}
  },
  {
   "cell_type": "markdown",
   "source": [
    "### Array class\n",
    "\n",
    "The `Array` class can wrap different ndarray backends. For now just the numpy ndarray (`backend = 'numpy'`) or a Jax DeviceArray (`backend = 'jax'`). This functionality should eventually be moved into the `qiskit.quantum_info` module."
   ],
   "metadata": {}
  },
  {
   "cell_type": "code",
   "execution_count": 2,
   "source": [
    "# Initialize an Array\n",
    "\n",
    "a = Array(np.arange(10))\n",
    "a"
   ],
   "outputs": [
    {
     "output_type": "execute_result",
     "data": {
      "text/plain": [
       "Array([0, 1, 2, 3, 4, 5, 6, 7, 8, 9], backend='numpy')"
      ]
     },
     "metadata": {},
     "execution_count": 2
    }
   ],
   "metadata": {}
  },
  {
   "cell_type": "code",
   "execution_count": 3,
   "source": [
    "# See inner array\n",
    "\n",
    "a.data"
   ],
   "outputs": [
    {
     "output_type": "execute_result",
     "data": {
      "text/plain": [
       "array([0, 1, 2, 3, 4, 5, 6, 7, 8, 9])"
      ]
     },
     "metadata": {},
     "execution_count": 3
    }
   ],
   "metadata": {}
  },
  {
   "cell_type": "code",
   "execution_count": 4,
   "source": [
    "# Work with numpy ufuncs\n",
    "\n",
    "np.sin(a) + 3 * np.cos(a)"
   ],
   "outputs": [
    {
     "output_type": "execute_result",
     "data": {
      "text/plain": [
       "Array([ 3.        ,  2.4623779 , -0.33914308, -2.82885748, -2.71773336,\n",
       "       -0.10793772,  2.60109536,  2.91869336,  0.55285815, -2.3212723 ],\n",
       "      backend='numpy')"
      ]
     },
     "metadata": {},
     "execution_count": 4
    }
   ],
   "metadata": {}
  },
  {
   "cell_type": "code",
   "execution_count": 5,
   "source": [
    "# Work with numpy array functions\n",
    "\n",
    "a.real"
   ],
   "outputs": [
    {
     "output_type": "execute_result",
     "data": {
      "text/plain": [
       "Array([0, 1, 2, 3, 4, 5, 6, 7, 8, 9], backend='numpy')"
      ]
     },
     "metadata": {},
     "execution_count": 5
    }
   ],
   "metadata": {}
  },
  {
   "cell_type": "code",
   "execution_count": 6,
   "source": [
    "# Call attribute of wrapped array\n",
    "\n",
    "a.reshape((2, 5))"
   ],
   "outputs": [
    {
     "output_type": "execute_result",
     "data": {
      "text/plain": [
       "Array([[0, 1, 2, 3, 4],\n",
       "       [5, 6, 7, 8, 9]], backend='numpy')"
      ]
     },
     "metadata": {},
     "execution_count": 6
    }
   ],
   "metadata": {}
  },
  {
   "cell_type": "markdown",
   "source": [
    "### Using Array backends"
   ],
   "metadata": {}
  },
  {
   "cell_type": "code",
   "execution_count": 7,
   "source": [
    "# See available Array backends\n",
    "\n",
    "dispatch.available_backends()"
   ],
   "outputs": [
    {
     "output_type": "execute_result",
     "data": {
      "text/plain": [
       "('jax', 'numpy')"
      ]
     },
     "metadata": {},
     "execution_count": 7
    }
   ],
   "metadata": {}
  },
  {
   "cell_type": "code",
   "execution_count": 8,
   "source": [
    "# Enable double precision jax\n",
    "import jax\n",
    "\n",
    "jax.config.update(\"jax_enable_x64\", True)\n",
    "\n",
    "b = Array(np.arange(10), backend='jax')\n",
    "b"
   ],
   "outputs": [
    {
     "output_type": "stream",
     "name": "stderr",
     "text": [
      "WARNING:absl:No GPU/TPU found, falling back to CPU. (Set TF_CPP_MIN_LOG_LEVEL=0 and rerun for more info.)\n"
     ]
    },
    {
     "output_type": "execute_result",
     "data": {
      "text/plain": [
       "Array([0, 1, 2, 3, 4, 5, 6, 7, 8, 9], backend='jax')"
      ]
     },
     "metadata": {},
     "execution_count": 8
    }
   ],
   "metadata": {}
  },
  {
   "cell_type": "code",
   "execution_count": 9,
   "source": [
    "# See inner array\n",
    "\n",
    "b.data"
   ],
   "outputs": [
    {
     "output_type": "execute_result",
     "data": {
      "text/plain": [
       "DeviceArray([0, 1, 2, 3, 4, 5, 6, 7, 8, 9], dtype=int64)"
      ]
     },
     "metadata": {},
     "execution_count": 9
    }
   ],
   "metadata": {}
  },
  {
   "cell_type": "code",
   "execution_count": 10,
   "source": [
    "# Work with numpy ufuncs\n",
    "\n",
    "np.sin(b) + 3 * np.cos(b)"
   ],
   "outputs": [
    {
     "output_type": "execute_result",
     "data": {
      "text/plain": [
       "Array([ 3.        ,  2.4623779 , -0.33914308, -2.82885748, -2.71773336,\n",
       "       -0.10793772,  2.60109536,  2.91869336,  0.55285815, -2.3212723 ],\n",
       "      backend='jax')"
      ]
     },
     "metadata": {},
     "execution_count": 10
    }
   ],
   "metadata": {}
  },
  {
   "cell_type": "code",
   "execution_count": 11,
   "source": [
    "# Work with numpy array functions\n",
    "\n",
    "np.dot(b, b)"
   ],
   "outputs": [
    {
     "output_type": "execute_result",
     "data": {
      "text/plain": [
       "Array(285, backend='jax')"
      ]
     },
     "metadata": {},
     "execution_count": 11
    }
   ],
   "metadata": {}
  },
  {
   "cell_type": "markdown",
   "source": [
    "### Using Array in other classes"
   ],
   "metadata": {}
  },
  {
   "cell_type": "code",
   "execution_count": 12,
   "source": [
    "# Set Jax as default backend\n",
    "\n",
    "dispatch.set_default_backend('jax')"
   ],
   "outputs": [],
   "metadata": {}
  },
  {
   "cell_type": "code",
   "execution_count": 13,
   "source": [
    "def obj(theta):\n",
    "    \"\"\"Toy objective function\"\"\"\n",
    "    # Need to wrap Operators in Array until qinfo integration is done\n",
    "    I = Array(qi.Operator.from_label('I'))  \n",
    "    Y = Array(qi.Operator.from_label('Y'))\n",
    "    \n",
    "    # Need to wrap parameters in array to handle Jax jit/grad dispatch\n",
    "    cos = np.cos(Array(theta) / 2)\n",
    "    sin = np.sin(Array(theta) / 2)\n",
    "\n",
    "    op = cos * I + sin * Y\n",
    "    val = np.abs(np.trace(np.dot(op, Y)))\n",
    "    return val"
   ],
   "outputs": [],
   "metadata": {}
  },
  {
   "cell_type": "code",
   "execution_count": 14,
   "source": [
    "# Test objective\n",
    "\n",
    "obj(0.1)"
   ],
   "outputs": [
    {
     "output_type": "execute_result",
     "data": {
      "text/plain": [
       "Array(0.09995834)"
      ]
     },
     "metadata": {},
     "execution_count": 14
    }
   ],
   "metadata": {}
  },
  {
   "cell_type": "markdown",
   "source": [
    "### Wrapping 3rd-party library functions to work with arrays"
   ],
   "metadata": {}
  },
  {
   "cell_type": "code",
   "execution_count": 15,
   "source": [
    "# Wrap jax functions\n",
    "\n",
    "jit = dispatch.wrap(jax.jit, decorator=True)\n",
    "grad = dispatch.wrap(jax.grad, decorator=True)\n",
    "value_and_grad = dispatch.wrap(jax.value_and_grad, decorator=True)\n",
    "\n",
    "f = jit(obj)\n",
    "g = grad(obj)\n",
    "h = value_and_grad(obj)\n",
    "\n",
    "f(0.1), g(0.1), h(0.1)"
   ],
   "outputs": [
    {
     "output_type": "execute_result",
     "data": {
      "text/plain": [
       "(Array(0.09995834), Array(0.99875026), (Array(0.09995834), Array(0.99875026)))"
      ]
     },
     "metadata": {},
     "execution_count": 15
    }
   ],
   "metadata": {}
  },
  {
   "cell_type": "markdown",
   "source": [
    "### Jax OdeInt"
   ],
   "metadata": {}
  },
  {
   "cell_type": "code",
   "execution_count": 16,
   "source": [
    "from jax.experimental.ode import odeint as jax_odeint\n",
    "\n",
    "# Wrap jax odeint function\n",
    "odeint = dispatch.wrap(jax_odeint)"
   ],
   "outputs": [],
   "metadata": {}
  },
  {
   "cell_type": "code",
   "execution_count": 17,
   "source": [
    "def sample_rhs(y, t):\n",
    "    return y\n",
    "\n",
    "y0 = Array([0., 1., 2.], dtype=float)\n",
    "t = Array([0., 1., 2.], dtype=float)"
   ],
   "outputs": [],
   "metadata": {}
  },
  {
   "cell_type": "code",
   "execution_count": 18,
   "source": [
    "results = odeint(sample_rhs, y0, t, atol=1e-10, rtol=1e-10)\n",
    "results"
   ],
   "outputs": [
    {
     "output_type": "execute_result",
     "data": {
      "text/plain": [
       "Array([[ 0.        ,  1.        ,  2.        ],\n",
       "       [ 0.        ,  2.71828183,  5.43656366],\n",
       "       [ 0.        ,  7.3890561 , 14.7781122 ]])"
      ]
     },
     "metadata": {},
     "execution_count": 18
    }
   ],
   "metadata": {}
  }
 ],
 "metadata": {
  "kernelspec": {
   "name": "python3",
   "display_name": "Python 3.8.5 64-bit ('base': conda)"
  },
  "language_info": {
   "codemirror_mode": {
    "name": "ipython",
    "version": 3
   },
   "file_extension": ".py",
   "mimetype": "text/x-python",
   "name": "python",
   "nbconvert_exporter": "python",
   "pygments_lexer": "ipython3",
   "version": "3.8.5"
  },
  "interpreter": {
   "hash": "5e5310ab1df1c80c820dafd4ba8dc30a2e69417f6a636c7d3a734a0f9d392399"
  }
 },
 "nbformat": 4,
 "nbformat_minor": 4
}