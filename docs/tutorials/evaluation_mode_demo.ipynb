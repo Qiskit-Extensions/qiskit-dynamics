{
 "cells": [
  {
   "cell_type": "code",
   "execution_count": 1,
   "source": [
    "import numpy as np\n",
    "import matplotlib.pyplot as plt\n",
    "from qiskit_dynamics.models import (\n",
    "    GeneratorModel,\n",
    "    HamiltonianModel,\n",
    "    LindbladModel,\n",
    "\n",
    "    DenseOperatorCollection,\n",
    "    SparseOperatorCollection,\n",
    "    DenseLindbladCollection,\n",
    "    DenseVectorizedLindbladCollection,\n",
    "    SparseLindbladCollection,\n",
    "\n",
    "    perform_rotating_wave_approximation,\n",
    ")\n",
    "from qiskit_dynamics.signals import (\n",
    "    Signal,\n",
    "    SignalList\n",
    ")"
   ],
   "outputs": [],
   "metadata": {}
  },
  {
   "cell_type": "markdown",
   "source": [
    "# In This Demo\n",
    "\n",
    "This demo presents the `operator_collections` functionality for `Model` classes, which effectively function as a calcluation object for the `Model`, so that the actual evaluation functionality of the `Model` is performed by one of its operator collection, not by the model itself. By abstracting the calculation from the `Model` itself, it is now possible to evaluate multiple modes of evaluation–e.g. using sparse matrices to store Hamiltonian components or a vectorized Lindblad evaluation mode–by simply changing an `evaluation_mode` property of the Model. This also enables future development of different evaluation modes as a simple drop-in process: simply create a new `OperatorCollection` that performs the math in the way you want and add a new supported `evaluation_mode` to the `Model` that uses this new collection.\n",
    "\n",
    "We will also discuss the new Rotating Wave Approximation function, which functions by taking in a `Model` and returns a new `Model` with the RWA applied. "
   ],
   "metadata": {}
  },
  {
   "cell_type": "markdown",
   "source": [
    "Let us consider a simple model for a two-level-system, where we use a Hamiltonian of the form $$\\mathcal{H}(t) = \\omega_0\\sigma_z - \\Omega(t)\\cos(2\\pi\\nu t)\\sigma_x\\qquad \\Omega(t) = \\Omega_0 e^{-t^2/2\\tau^2}$$In the language of `qiskit_dynamics`, this is represented as follows:"
   ],
   "metadata": {}
  },
  {
   "cell_type": "code",
   "execution_count": 2,
   "source": [
    "Omega_0 = 0.5\n",
    "tau = 3\n",
    "omega_0 = 1\n",
    "nu = 1/(2*np.pi) #2\\pi\\nu = \\omega_0\n",
    "\n",
    "Omega = lambda t: Omega_0 * np.exp(-t**2/(2*tau**2))\n",
    "drive_signal = Signal(Omega,nu,0)\n",
    "\n",
    "times = np.linspace(-10,10,200)\n",
    "plt.plot(times,drive_signal(times))\n",
    "\n",
    "drive_operator = -np.array([[[0,1],[1,0]]])\n",
    "drift_operator = omega_0*np.array([[1,0],[0,-1]])\n",
    "\n",
    "model = HamiltonianModel(drive_operator,drift=drift_operator,signals=[drive_signal])"
   ],
   "outputs": [
    {
     "output_type": "display_data",
     "data": {
      "text/plain": [
       "<Figure size 432x288 with 1 Axes>"
      ],
      "image/svg+xml": "<?xml version=\"1.0\" encoding=\"utf-8\" standalone=\"no\"?>\n<!DOCTYPE svg PUBLIC \"-//W3C//DTD SVG 1.1//EN\"\n  \"http://www.w3.org/Graphics/SVG/1.1/DTD/svg11.dtd\">\n<!-- Created with matplotlib (https://matplotlib.org/) -->\n<svg height=\"248.518125pt\" version=\"1.1\" viewBox=\"0 0 380.482812 248.518125\" width=\"380.482812pt\" xmlns=\"http://www.w3.org/2000/svg\" xmlns:xlink=\"http://www.w3.org/1999/xlink\">\n <metadata>\n  <rdf:RDF xmlns:cc=\"http://creativecommons.org/ns#\" xmlns:dc=\"http://purl.org/dc/elements/1.1/\" xmlns:rdf=\"http://www.w3.org/1999/02/22-rdf-syntax-ns#\">\n   <cc:Work>\n    <dc:type rdf:resource=\"http://purl.org/dc/dcmitype/StillImage\"/>\n    <dc:date>2021-08-09T16:40:06.781834</dc:date>\n    <dc:format>image/svg+xml</dc:format>\n    <dc:creator>\n     <cc:Agent>\n      <dc:title>Matplotlib v3.3.4, https://matplotlib.org/</dc:title>\n     </cc:Agent>\n    </dc:creator>\n   </cc:Work>\n  </rdf:RDF>\n </metadata>\n <defs>\n  <style type=\"text/css\">*{stroke-linecap:butt;stroke-linejoin:round;}</style>\n </defs>\n <g id=\"figure_1\">\n  <g id=\"patch_1\">\n   <path d=\"M -0 248.518125 \nL 380.482812 248.518125 \nL 380.482812 0 \nL -0 0 \nz\n\" style=\"fill:none;\"/>\n  </g>\n  <g id=\"axes_1\">\n   <g id=\"patch_2\">\n    <path d=\"M 38.482813 224.64 \nL 373.282813 224.64 \nL 373.282813 7.2 \nL 38.482813 7.2 \nz\n\" style=\"fill:#ffffff;\"/>\n   </g>\n   <g id=\"matplotlib.axis_1\">\n    <g id=\"xtick_1\">\n     <g id=\"line2d_1\">\n      <defs>\n       <path d=\"M 0 0 \nL 0 3.5 \n\" id=\"mab0114d77c\" style=\"stroke:#000000;stroke-width:0.8;\"/>\n      </defs>\n      <g>\n       <use style=\"stroke:#000000;stroke-width:0.8;\" x=\"53.700994\" xlink:href=\"#mab0114d77c\" y=\"224.64\"/>\n      </g>\n     </g>\n     <g id=\"text_1\">\n      <!-- −10.0 -->\n      <g transform=\"translate(38.378338 239.238437)scale(0.1 -0.1)\">\n       <defs>\n        <path d=\"M 10.59375 35.5 \nL 73.1875 35.5 \nL 73.1875 27.203125 \nL 10.59375 27.203125 \nz\n\" id=\"DejaVuSans-8722\"/>\n        <path d=\"M 12.40625 8.296875 \nL 28.515625 8.296875 \nL 28.515625 63.921875 \nL 10.984375 60.40625 \nL 10.984375 69.390625 \nL 28.421875 72.90625 \nL 38.28125 72.90625 \nL 38.28125 8.296875 \nL 54.390625 8.296875 \nL 54.390625 0 \nL 12.40625 0 \nz\n\" id=\"DejaVuSans-49\"/>\n        <path d=\"M 31.78125 66.40625 \nQ 24.171875 66.40625 20.328125 58.90625 \nQ 16.5 51.421875 16.5 36.375 \nQ 16.5 21.390625 20.328125 13.890625 \nQ 24.171875 6.390625 31.78125 6.390625 \nQ 39.453125 6.390625 43.28125 13.890625 \nQ 47.125 21.390625 47.125 36.375 \nQ 47.125 51.421875 43.28125 58.90625 \nQ 39.453125 66.40625 31.78125 66.40625 \nz\nM 31.78125 74.21875 \nQ 44.046875 74.21875 50.515625 64.515625 \nQ 56.984375 54.828125 56.984375 36.375 \nQ 56.984375 17.96875 50.515625 8.265625 \nQ 44.046875 -1.421875 31.78125 -1.421875 \nQ 19.53125 -1.421875 13.0625 8.265625 \nQ 6.59375 17.96875 6.59375 36.375 \nQ 6.59375 54.828125 13.0625 64.515625 \nQ 19.53125 74.21875 31.78125 74.21875 \nz\n\" id=\"DejaVuSans-48\"/>\n        <path d=\"M 10.6875 12.40625 \nL 21 12.40625 \nL 21 0 \nL 10.6875 0 \nz\n\" id=\"DejaVuSans-46\"/>\n       </defs>\n       <use xlink:href=\"#DejaVuSans-8722\"/>\n       <use x=\"83.789062\" xlink:href=\"#DejaVuSans-49\"/>\n       <use x=\"147.412109\" xlink:href=\"#DejaVuSans-48\"/>\n       <use x=\"211.035156\" xlink:href=\"#DejaVuSans-46\"/>\n       <use x=\"242.822266\" xlink:href=\"#DejaVuSans-48\"/>\n      </g>\n     </g>\n    </g>\n    <g id=\"xtick_2\">\n     <g id=\"line2d_2\">\n      <g>\n       <use style=\"stroke:#000000;stroke-width:0.8;\" x=\"91.746449\" xlink:href=\"#mab0114d77c\" y=\"224.64\"/>\n      </g>\n     </g>\n     <g id=\"text_2\">\n      <!-- −7.5 -->\n      <g transform=\"translate(79.605043 239.238437)scale(0.1 -0.1)\">\n       <defs>\n        <path d=\"M 8.203125 72.90625 \nL 55.078125 72.90625 \nL 55.078125 68.703125 \nL 28.609375 0 \nL 18.3125 0 \nL 43.21875 64.59375 \nL 8.203125 64.59375 \nz\n\" id=\"DejaVuSans-55\"/>\n        <path d=\"M 10.796875 72.90625 \nL 49.515625 72.90625 \nL 49.515625 64.59375 \nL 19.828125 64.59375 \nL 19.828125 46.734375 \nQ 21.96875 47.46875 24.109375 47.828125 \nQ 26.265625 48.1875 28.421875 48.1875 \nQ 40.625 48.1875 47.75 41.5 \nQ 54.890625 34.8125 54.890625 23.390625 \nQ 54.890625 11.625 47.5625 5.09375 \nQ 40.234375 -1.421875 26.90625 -1.421875 \nQ 22.3125 -1.421875 17.546875 -0.640625 \nQ 12.796875 0.140625 7.71875 1.703125 \nL 7.71875 11.625 \nQ 12.109375 9.234375 16.796875 8.0625 \nQ 21.484375 6.890625 26.703125 6.890625 \nQ 35.15625 6.890625 40.078125 11.328125 \nQ 45.015625 15.765625 45.015625 23.390625 \nQ 45.015625 31 40.078125 35.4375 \nQ 35.15625 39.890625 26.703125 39.890625 \nQ 22.75 39.890625 18.8125 39.015625 \nQ 14.890625 38.140625 10.796875 36.28125 \nz\n\" id=\"DejaVuSans-53\"/>\n       </defs>\n       <use xlink:href=\"#DejaVuSans-8722\"/>\n       <use x=\"83.789062\" xlink:href=\"#DejaVuSans-55\"/>\n       <use x=\"147.412109\" xlink:href=\"#DejaVuSans-46\"/>\n       <use x=\"179.199219\" xlink:href=\"#DejaVuSans-53\"/>\n      </g>\n     </g>\n    </g>\n    <g id=\"xtick_3\">\n     <g id=\"line2d_3\">\n      <g>\n       <use style=\"stroke:#000000;stroke-width:0.8;\" x=\"129.791903\" xlink:href=\"#mab0114d77c\" y=\"224.64\"/>\n      </g>\n     </g>\n     <g id=\"text_3\">\n      <!-- −5.0 -->\n      <g transform=\"translate(117.650497 239.238437)scale(0.1 -0.1)\">\n       <use xlink:href=\"#DejaVuSans-8722\"/>\n       <use x=\"83.789062\" xlink:href=\"#DejaVuSans-53\"/>\n       <use x=\"147.412109\" xlink:href=\"#DejaVuSans-46\"/>\n       <use x=\"179.199219\" xlink:href=\"#DejaVuSans-48\"/>\n      </g>\n     </g>\n    </g>\n    <g id=\"xtick_4\">\n     <g id=\"line2d_4\">\n      <g>\n       <use style=\"stroke:#000000;stroke-width:0.8;\" x=\"167.837358\" xlink:href=\"#mab0114d77c\" y=\"224.64\"/>\n      </g>\n     </g>\n     <g id=\"text_4\">\n      <!-- −2.5 -->\n      <g transform=\"translate(155.695952 239.238437)scale(0.1 -0.1)\">\n       <defs>\n        <path d=\"M 19.1875 8.296875 \nL 53.609375 8.296875 \nL 53.609375 0 \nL 7.328125 0 \nL 7.328125 8.296875 \nQ 12.9375 14.109375 22.625 23.890625 \nQ 32.328125 33.6875 34.8125 36.53125 \nQ 39.546875 41.84375 41.421875 45.53125 \nQ 43.3125 49.21875 43.3125 52.78125 \nQ 43.3125 58.59375 39.234375 62.25 \nQ 35.15625 65.921875 28.609375 65.921875 \nQ 23.96875 65.921875 18.8125 64.3125 \nQ 13.671875 62.703125 7.8125 59.421875 \nL 7.8125 69.390625 \nQ 13.765625 71.78125 18.9375 73 \nQ 24.125 74.21875 28.421875 74.21875 \nQ 39.75 74.21875 46.484375 68.546875 \nQ 53.21875 62.890625 53.21875 53.421875 \nQ 53.21875 48.921875 51.53125 44.890625 \nQ 49.859375 40.875 45.40625 35.40625 \nQ 44.1875 33.984375 37.640625 27.21875 \nQ 31.109375 20.453125 19.1875 8.296875 \nz\n\" id=\"DejaVuSans-50\"/>\n       </defs>\n       <use xlink:href=\"#DejaVuSans-8722\"/>\n       <use x=\"83.789062\" xlink:href=\"#DejaVuSans-50\"/>\n       <use x=\"147.412109\" xlink:href=\"#DejaVuSans-46\"/>\n       <use x=\"179.199219\" xlink:href=\"#DejaVuSans-53\"/>\n      </g>\n     </g>\n    </g>\n    <g id=\"xtick_5\">\n     <g id=\"line2d_5\">\n      <g>\n       <use style=\"stroke:#000000;stroke-width:0.8;\" x=\"205.882812\" xlink:href=\"#mab0114d77c\" y=\"224.64\"/>\n      </g>\n     </g>\n     <g id=\"text_5\">\n      <!-- 0.0 -->\n      <g transform=\"translate(197.93125 239.238437)scale(0.1 -0.1)\">\n       <use xlink:href=\"#DejaVuSans-48\"/>\n       <use x=\"63.623047\" xlink:href=\"#DejaVuSans-46\"/>\n       <use x=\"95.410156\" xlink:href=\"#DejaVuSans-48\"/>\n      </g>\n     </g>\n    </g>\n    <g id=\"xtick_6\">\n     <g id=\"line2d_6\">\n      <g>\n       <use style=\"stroke:#000000;stroke-width:0.8;\" x=\"243.928267\" xlink:href=\"#mab0114d77c\" y=\"224.64\"/>\n      </g>\n     </g>\n     <g id=\"text_6\">\n      <!-- 2.5 -->\n      <g transform=\"translate(235.976705 239.238437)scale(0.1 -0.1)\">\n       <use xlink:href=\"#DejaVuSans-50\"/>\n       <use x=\"63.623047\" xlink:href=\"#DejaVuSans-46\"/>\n       <use x=\"95.410156\" xlink:href=\"#DejaVuSans-53\"/>\n      </g>\n     </g>\n    </g>\n    <g id=\"xtick_7\">\n     <g id=\"line2d_7\">\n      <g>\n       <use style=\"stroke:#000000;stroke-width:0.8;\" x=\"281.973722\" xlink:href=\"#mab0114d77c\" y=\"224.64\"/>\n      </g>\n     </g>\n     <g id=\"text_7\">\n      <!-- 5.0 -->\n      <g transform=\"translate(274.022159 239.238437)scale(0.1 -0.1)\">\n       <use xlink:href=\"#DejaVuSans-53\"/>\n       <use x=\"63.623047\" xlink:href=\"#DejaVuSans-46\"/>\n       <use x=\"95.410156\" xlink:href=\"#DejaVuSans-48\"/>\n      </g>\n     </g>\n    </g>\n    <g id=\"xtick_8\">\n     <g id=\"line2d_8\">\n      <g>\n       <use style=\"stroke:#000000;stroke-width:0.8;\" x=\"320.019176\" xlink:href=\"#mab0114d77c\" y=\"224.64\"/>\n      </g>\n     </g>\n     <g id=\"text_8\">\n      <!-- 7.5 -->\n      <g transform=\"translate(312.067614 239.238437)scale(0.1 -0.1)\">\n       <use xlink:href=\"#DejaVuSans-55\"/>\n       <use x=\"63.623047\" xlink:href=\"#DejaVuSans-46\"/>\n       <use x=\"95.410156\" xlink:href=\"#DejaVuSans-53\"/>\n      </g>\n     </g>\n    </g>\n    <g id=\"xtick_9\">\n     <g id=\"line2d_9\">\n      <g>\n       <use style=\"stroke:#000000;stroke-width:0.8;\" x=\"358.064631\" xlink:href=\"#mab0114d77c\" y=\"224.64\"/>\n      </g>\n     </g>\n     <g id=\"text_9\">\n      <!-- 10.0 -->\n      <g transform=\"translate(346.931818 239.238437)scale(0.1 -0.1)\">\n       <use xlink:href=\"#DejaVuSans-49\"/>\n       <use x=\"63.623047\" xlink:href=\"#DejaVuSans-48\"/>\n       <use x=\"127.246094\" xlink:href=\"#DejaVuSans-46\"/>\n       <use x=\"159.033203\" xlink:href=\"#DejaVuSans-48\"/>\n      </g>\n     </g>\n    </g>\n   </g>\n   <g id=\"matplotlib.axis_2\">\n    <g id=\"ytick_1\">\n     <g id=\"line2d_10\">\n      <defs>\n       <path d=\"M 0 0 \nL -3.5 0 \n\" id=\"m42ae38aa35\" style=\"stroke:#000000;stroke-width:0.8;\"/>\n      </defs>\n      <g>\n       <use style=\"stroke:#000000;stroke-width:0.8;\" x=\"38.482813\" xlink:href=\"#m42ae38aa35\" y=\"213.560492\"/>\n      </g>\n     </g>\n     <g id=\"text_10\">\n      <!-- −0.3 -->\n      <g transform=\"translate(7.2 217.359711)scale(0.1 -0.1)\">\n       <defs>\n        <path d=\"M 40.578125 39.3125 \nQ 47.65625 37.796875 51.625 33 \nQ 55.609375 28.21875 55.609375 21.1875 \nQ 55.609375 10.40625 48.1875 4.484375 \nQ 40.765625 -1.421875 27.09375 -1.421875 \nQ 22.515625 -1.421875 17.65625 -0.515625 \nQ 12.796875 0.390625 7.625 2.203125 \nL 7.625 11.71875 \nQ 11.71875 9.328125 16.59375 8.109375 \nQ 21.484375 6.890625 26.8125 6.890625 \nQ 36.078125 6.890625 40.9375 10.546875 \nQ 45.796875 14.203125 45.796875 21.1875 \nQ 45.796875 27.640625 41.28125 31.265625 \nQ 36.765625 34.90625 28.71875 34.90625 \nL 20.21875 34.90625 \nL 20.21875 43.015625 \nL 29.109375 43.015625 \nQ 36.375 43.015625 40.234375 45.921875 \nQ 44.09375 48.828125 44.09375 54.296875 \nQ 44.09375 59.90625 40.109375 62.90625 \nQ 36.140625 65.921875 28.71875 65.921875 \nQ 24.65625 65.921875 20.015625 65.03125 \nQ 15.375 64.15625 9.8125 62.3125 \nL 9.8125 71.09375 \nQ 15.4375 72.65625 20.34375 73.4375 \nQ 25.25 74.21875 29.59375 74.21875 \nQ 40.828125 74.21875 47.359375 69.109375 \nQ 53.90625 64.015625 53.90625 55.328125 \nQ 53.90625 49.265625 50.4375 45.09375 \nQ 46.96875 40.921875 40.578125 39.3125 \nz\n\" id=\"DejaVuSans-51\"/>\n       </defs>\n       <use xlink:href=\"#DejaVuSans-8722\"/>\n       <use x=\"83.789062\" xlink:href=\"#DejaVuSans-48\"/>\n       <use x=\"147.412109\" xlink:href=\"#DejaVuSans-46\"/>\n       <use x=\"179.199219\" xlink:href=\"#DejaVuSans-51\"/>\n      </g>\n     </g>\n    </g>\n    <g id=\"ytick_2\">\n     <g id=\"line2d_11\">\n      <g>\n       <use style=\"stroke:#000000;stroke-width:0.8;\" x=\"38.482813\" xlink:href=\"#m42ae38aa35\" y=\"188.979339\"/>\n      </g>\n     </g>\n     <g id=\"text_11\">\n      <!-- −0.2 -->\n      <g transform=\"translate(7.2 192.778558)scale(0.1 -0.1)\">\n       <use xlink:href=\"#DejaVuSans-8722\"/>\n       <use x=\"83.789062\" xlink:href=\"#DejaVuSans-48\"/>\n       <use x=\"147.412109\" xlink:href=\"#DejaVuSans-46\"/>\n       <use x=\"179.199219\" xlink:href=\"#DejaVuSans-50\"/>\n      </g>\n     </g>\n    </g>\n    <g id=\"ytick_3\">\n     <g id=\"line2d_12\">\n      <g>\n       <use style=\"stroke:#000000;stroke-width:0.8;\" x=\"38.482813\" xlink:href=\"#m42ae38aa35\" y=\"164.398186\"/>\n      </g>\n     </g>\n     <g id=\"text_12\">\n      <!-- −0.1 -->\n      <g transform=\"translate(7.2 168.197405)scale(0.1 -0.1)\">\n       <use xlink:href=\"#DejaVuSans-8722\"/>\n       <use x=\"83.789062\" xlink:href=\"#DejaVuSans-48\"/>\n       <use x=\"147.412109\" xlink:href=\"#DejaVuSans-46\"/>\n       <use x=\"179.199219\" xlink:href=\"#DejaVuSans-49\"/>\n      </g>\n     </g>\n    </g>\n    <g id=\"ytick_4\">\n     <g id=\"line2d_13\">\n      <g>\n       <use style=\"stroke:#000000;stroke-width:0.8;\" x=\"38.482813\" xlink:href=\"#m42ae38aa35\" y=\"139.817034\"/>\n      </g>\n     </g>\n     <g id=\"text_13\">\n      <!-- 0.0 -->\n      <g transform=\"translate(15.579688 143.616252)scale(0.1 -0.1)\">\n       <use xlink:href=\"#DejaVuSans-48\"/>\n       <use x=\"63.623047\" xlink:href=\"#DejaVuSans-46\"/>\n       <use x=\"95.410156\" xlink:href=\"#DejaVuSans-48\"/>\n      </g>\n     </g>\n    </g>\n    <g id=\"ytick_5\">\n     <g id=\"line2d_14\">\n      <g>\n       <use style=\"stroke:#000000;stroke-width:0.8;\" x=\"38.482813\" xlink:href=\"#m42ae38aa35\" y=\"115.235881\"/>\n      </g>\n     </g>\n     <g id=\"text_14\">\n      <!-- 0.1 -->\n      <g transform=\"translate(15.579688 119.0351)scale(0.1 -0.1)\">\n       <use xlink:href=\"#DejaVuSans-48\"/>\n       <use x=\"63.623047\" xlink:href=\"#DejaVuSans-46\"/>\n       <use x=\"95.410156\" xlink:href=\"#DejaVuSans-49\"/>\n      </g>\n     </g>\n    </g>\n    <g id=\"ytick_6\">\n     <g id=\"line2d_15\">\n      <g>\n       <use style=\"stroke:#000000;stroke-width:0.8;\" x=\"38.482813\" xlink:href=\"#m42ae38aa35\" y=\"90.654728\"/>\n      </g>\n     </g>\n     <g id=\"text_15\">\n      <!-- 0.2 -->\n      <g transform=\"translate(15.579688 94.453947)scale(0.1 -0.1)\">\n       <use xlink:href=\"#DejaVuSans-48\"/>\n       <use x=\"63.623047\" xlink:href=\"#DejaVuSans-46\"/>\n       <use x=\"95.410156\" xlink:href=\"#DejaVuSans-50\"/>\n      </g>\n     </g>\n    </g>\n    <g id=\"ytick_7\">\n     <g id=\"line2d_16\">\n      <g>\n       <use style=\"stroke:#000000;stroke-width:0.8;\" x=\"38.482813\" xlink:href=\"#m42ae38aa35\" y=\"66.073575\"/>\n      </g>\n     </g>\n     <g id=\"text_16\">\n      <!-- 0.3 -->\n      <g transform=\"translate(15.579688 69.872794)scale(0.1 -0.1)\">\n       <use xlink:href=\"#DejaVuSans-48\"/>\n       <use x=\"63.623047\" xlink:href=\"#DejaVuSans-46\"/>\n       <use x=\"95.410156\" xlink:href=\"#DejaVuSans-51\"/>\n      </g>\n     </g>\n    </g>\n    <g id=\"ytick_8\">\n     <g id=\"line2d_17\">\n      <g>\n       <use style=\"stroke:#000000;stroke-width:0.8;\" x=\"38.482813\" xlink:href=\"#m42ae38aa35\" y=\"41.492422\"/>\n      </g>\n     </g>\n     <g id=\"text_17\">\n      <!-- 0.4 -->\n      <g transform=\"translate(15.579688 45.291641)scale(0.1 -0.1)\">\n       <defs>\n        <path d=\"M 37.796875 64.3125 \nL 12.890625 25.390625 \nL 37.796875 25.390625 \nz\nM 35.203125 72.90625 \nL 47.609375 72.90625 \nL 47.609375 25.390625 \nL 58.015625 25.390625 \nL 58.015625 17.1875 \nL 47.609375 17.1875 \nL 47.609375 0 \nL 37.796875 0 \nL 37.796875 17.1875 \nL 4.890625 17.1875 \nL 4.890625 26.703125 \nz\n\" id=\"DejaVuSans-52\"/>\n       </defs>\n       <use xlink:href=\"#DejaVuSans-48\"/>\n       <use x=\"63.623047\" xlink:href=\"#DejaVuSans-46\"/>\n       <use x=\"95.410156\" xlink:href=\"#DejaVuSans-52\"/>\n      </g>\n     </g>\n    </g>\n    <g id=\"ytick_9\">\n     <g id=\"line2d_18\">\n      <g>\n       <use style=\"stroke:#000000;stroke-width:0.8;\" x=\"38.482813\" xlink:href=\"#m42ae38aa35\" y=\"16.91127\"/>\n      </g>\n     </g>\n     <g id=\"text_18\">\n      <!-- 0.5 -->\n      <g transform=\"translate(15.579688 20.710488)scale(0.1 -0.1)\">\n       <use xlink:href=\"#DejaVuSans-48\"/>\n       <use x=\"63.623047\" xlink:href=\"#DejaVuSans-46\"/>\n       <use x=\"95.410156\" xlink:href=\"#DejaVuSans-53\"/>\n      </g>\n     </g>\n    </g>\n   </g>\n   <g id=\"line2d_19\">\n    <path clip-path=\"url(#pafc304aead)\" d=\"M 53.700994 140.215713 \nL 65.936718 140.907819 \nL 72.05458 141.168704 \nL 76.642977 141.149578 \nL 79.701908 140.959549 \nL 82.760839 140.575647 \nL 85.81977 139.954284 \nL 88.878701 139.057999 \nL 91.937632 137.861332 \nL 94.996563 136.357423 \nL 98.055494 134.564856 \nL 101.114425 132.534091 \nL 110.291218 126.089381 \nL 113.350149 124.380231 \nL 114.879615 123.728902 \nL 116.40908 123.25401 \nL 117.938546 122.986995 \nL 119.468011 122.959196 \nL 120.997477 123.201205 \nL 122.526942 123.742162 \nL 124.056408 124.609007 \nL 125.585873 125.825704 \nL 127.115339 127.412447 \nL 128.644804 129.384864 \nL 130.17427 131.753247 \nL 131.703735 134.521816 \nL 133.233201 137.688041 \nL 134.762666 141.242052 \nL 136.292132 145.166144 \nL 139.351063 154.012477 \nL 142.409994 163.918204 \nL 151.586787 194.990922 \nL 153.116252 199.526179 \nL 154.645718 203.637861 \nL 156.175183 207.23421 \nL 157.704649 210.225961 \nL 159.234114 212.528145 \nL 160.76358 214.061917 \nL 162.293045 214.756364 \nL 163.822511 214.550254 \nL 165.351977 213.393687 \nL 166.881442 211.249601 \nL 168.410908 208.095102 \nL 169.940373 203.922568 \nL 171.469839 198.74051 \nL 172.999304 192.574143 \nL 174.52877 185.46565 \nL 176.058235 177.47413 \nL 177.587701 168.675196 \nL 180.646632 149.03538 \nL 183.705563 127.445206 \nL 189.823425 82.861042 \nL 192.882356 62.303667 \nL 194.411821 52.989062 \nL 195.941287 44.503972 \nL 197.470752 36.975432 \nL 199.000218 30.517162 \nL 200.529683 25.227431 \nL 202.059149 21.187196 \nL 203.588614 18.458571 \nL 205.11808 17.083636 \nL 206.647545 17.083636 \nL 208.177011 18.458571 \nL 209.706476 21.187196 \nL 211.235942 25.227431 \nL 212.765407 30.517162 \nL 214.294873 36.975432 \nL 215.824338 44.503972 \nL 217.353804 52.989062 \nL 218.883269 62.303667 \nL 221.9422 82.861042 \nL 226.530597 116.251593 \nL 231.118993 149.03538 \nL 234.177924 168.675196 \nL 235.70739 177.47413 \nL 237.236855 185.46565 \nL 238.766321 192.574143 \nL 240.295786 198.74051 \nL 241.825252 203.922568 \nL 243.354717 208.095102 \nL 244.884183 211.249601 \nL 246.413648 213.393687 \nL 247.943114 214.550254 \nL 249.47258 214.756364 \nL 251.002045 214.061917 \nL 252.531511 212.528145 \nL 254.060976 210.225961 \nL 255.590442 207.23421 \nL 257.119907 203.637861 \nL 258.649373 199.526179 \nL 261.708304 190.124589 \nL 266.2967 174.441313 \nL 270.885097 158.857504 \nL 273.944028 149.434403 \nL 275.473493 145.166144 \nL 277.002959 141.242052 \nL 278.532424 137.688041 \nL 280.06189 134.521816 \nL 281.591355 131.753247 \nL 283.120821 129.384864 \nL 284.650286 127.412447 \nL 286.179752 125.825704 \nL 287.709217 124.609007 \nL 289.238683 123.742162 \nL 290.768148 123.201205 \nL 292.297614 122.959196 \nL 293.827079 122.986995 \nL 295.356545 123.25401 \nL 296.88601 123.728902 \nL 298.415476 124.380231 \nL 301.474407 126.089381 \nL 304.533338 128.148421 \nL 312.180665 133.574694 \nL 315.239596 135.494885 \nL 318.298527 137.147297 \nL 321.357458 138.498158 \nL 324.416389 139.542454 \nL 327.47532 140.297198 \nL 330.534252 140.794638 \nL 333.593183 141.075974 \nL 338.181579 141.190612 \nL 342.769976 141.064462 \nL 355.0057 140.368728 \nL 358.064631 140.215713 \nL 358.064631 140.215713 \n\" style=\"fill:none;stroke:#1f77b4;stroke-linecap:square;stroke-width:1.5;\"/>\n   </g>\n   <g id=\"patch_3\">\n    <path d=\"M 38.482813 224.64 \nL 38.482813 7.2 \n\" style=\"fill:none;stroke:#000000;stroke-linecap:square;stroke-linejoin:miter;stroke-width:0.8;\"/>\n   </g>\n   <g id=\"patch_4\">\n    <path d=\"M 373.282813 224.64 \nL 373.282813 7.2 \n\" style=\"fill:none;stroke:#000000;stroke-linecap:square;stroke-linejoin:miter;stroke-width:0.8;\"/>\n   </g>\n   <g id=\"patch_5\">\n    <path d=\"M 38.482812 224.64 \nL 373.282812 224.64 \n\" style=\"fill:none;stroke:#000000;stroke-linecap:square;stroke-linejoin:miter;stroke-width:0.8;\"/>\n   </g>\n   <g id=\"patch_6\">\n    <path d=\"M 38.482812 7.2 \nL 373.282812 7.2 \n\" style=\"fill:none;stroke:#000000;stroke-linecap:square;stroke-linejoin:miter;stroke-width:0.8;\"/>\n   </g>\n  </g>\n </g>\n <defs>\n  <clipPath id=\"pafc304aead\">\n   <rect height=\"217.44\" width=\"334.8\" x=\"38.482813\" y=\"7.2\"/>\n  </clipPath>\n </defs>\n</svg>\n",
      "image/png": "[encoded data removed]"
     },
     "metadata": {
      "needs_background": "light"
     }
    }
   ],
   "metadata": {}
  },
  {
   "cell_type": "markdown",
   "source": [
    "We may generically represent the Schr\\\"odinger equation in natural units for a state $y$ as $$\\dot{y} = -iH(t)y$$`HamiltonianModel` is a model class that is intended to evaluate both $-iH$ and $-iHy$ for a given $t$ and $y$."
   ],
   "metadata": {}
  },
  {
   "cell_type": "code",
   "execution_count": 3,
   "source": [
    "time = 0\n",
    "\n",
    "print(model(time)) # evaluates -iH\n",
    "\n",
    "state = np.array([0,1]) # ground state at t = \\pm\\infty\n",
    "print(model(time,state)) # evaluates -iHy"
   ],
   "outputs": [
    {
     "output_type": "stream",
     "name": "stdout",
     "text": [
      "[[0.-1.j  0.+0.5j]\n",
      " [0.+0.5j 0.+1.j ]]\n",
      "[0.+0.5j 0.+1.j ]\n"
     ]
    }
   ],
   "metadata": {}
  },
  {
   "cell_type": "markdown",
   "source": [
    "Under the hood, the actual evaluation of the model is done by `Model._operator_collection`, which is, by default, a `DenseOperatorCollection`. All `OperatorCollection`s really do is to take in the numeric signal values and return the value of the model in a way that is as optimized for its mode of evaluation as possible. They do not know about a `Model`'s `RotatingFrame` or its actual `SignalList`, and–for the most part–are just taking linear combinations of operators, given a list of coefficients. This makes the generic evaluation process for a `Model` an extremely modular process, where each of the following steps can be modified independently and cleanly: \n",
    "\n",
    "\\begin{enumerate}\n",
    "\n",
    "\\item Pass state to `RotatingFrame` for pre-rotation (if applicable, e.g. $|\\psi\\rangle\\to e^{-iHt}|\\psi\\rangle$) and basis change (if applicable).\n",
    "\n",
    "\\item Get Signal values from `SignalList` object.\n",
    "\n",
    "\\item Pass Signal values and state (if applicable) to `OperatorCollection` to evaluate model.\n",
    "\n",
    "\\item Pass model to `Rotatingframe` for post-rotation (if applicable, e.g. $|\\psi\\rangle \\to e^{iHt}|\\psi\\rangle$) and basis change (if applicable).\n",
    "\n",
    "\\end{enumerate}"
   ],
   "metadata": {}
  },
  {
   "cell_type": "code",
   "execution_count": 4,
   "source": [
    "sig_vals = model.signals(time)\n",
    "\n",
    "print(model._operator_collection(sig_vals))\n",
    "\n",
    "print(model._operator_collection(sig_vals,state))"
   ],
   "outputs": [
    {
     "output_type": "stream",
     "name": "stdout",
     "text": [
      "[[ 1.  -0.5]\n",
      " [-0.5 -1. ]]\n",
      "[-0.5 -1. ]\n"
     ]
    }
   ],
   "metadata": {}
  },
  {
   "cell_type": "markdown",
   "source": [
    "Because `DenseOperatorCollection`s are designed for the more general `GeneratorModel`, rather than the `HamiltonianModel` we are using, it actually evaluates the Hamiltonian $H(0)=\\sigma_z-\\sigma_x/2$. The `HamiltonianModel` simply multiplies this output by $-i$. \n",
    "\n",
    "Because the `OperatorCollection`s are such simple objects, it is a very simple process to simply add a different evaluation mode. Generically, all that needs to be done is to write a new `OperatorCollection` class that performs the math in a particular way, then to add a new possible value for the `Model` class's `evaluation_mode` that sets `Mode._operator_collection` to this new evaluation mode. \n",
    "\n",
    "Having simple support for multiple evaluation modes can be quite important from a user perspective. For example, when Hamiltonian components are mathematically sparse, it may make sense to store only sparse Hamiltonian components. This is accomplished through a simple property change on the user side. "
   ],
   "metadata": {}
  },
  {
   "cell_type": "code",
   "execution_count": 5,
   "source": [
    "model.evaluation_mode = \"sparse\"\n",
    "print(model(time))\n",
    "print(model(time,state))"
   ],
   "outputs": [
    {
     "output_type": "stream",
     "name": "stdout",
     "text": [
      "  (0, 0)\t-1j\n",
      "  (0, 1)\t0.5j\n",
      "  (1, 0)\t0.5j\n",
      "  (1, 1)\t1j\n",
      "[0.+0.5j 0.+1.j ]\n"
     ]
    }
   ],
   "metadata": {}
  },
  {
   "cell_type": "markdown",
   "source": [
    "When we bring a `Model` into the rotating frame (by providing it a `RotatingFrame` object or a\\[n\\] \\[anti\\]hermitian operator), its `OperatorCollection` is automatically transferred into the basis in which the frame operator, $F$, is diagonal: "
   ],
   "metadata": {}
  },
  {
   "cell_type": "code",
   "execution_count": 6,
   "source": [
    "frame_op = np.array([[0,1],[1,0]])\n",
    "\n",
    "model.evaluation_mode = \"sparse\"\n",
    "\n",
    "model.frame = frame_op\n",
    "\n",
    "# In basis in which F is diagonal, \\sigma_x -> \\sigma_z\n",
    "print(model._operator_collection._operators[0].toarray())\n",
    "\n",
    "print(model(time))"
   ],
   "outputs": [
    {
     "output_type": "stream",
     "name": "stdout",
     "text": [
      "[[ 1.+0.j  0.+0.j]\n",
      " [ 0.+0.j -1.+0.j]]\n",
      "[[0.-1.j  0.+1.5j]\n",
      " [0.+1.5j 0.+1.j ]]\n"
     ]
    }
   ],
   "metadata": {}
  },
  {
   "cell_type": "markdown",
   "source": [
    "Frame setting is non-destructive–every time a new frame is set, the operators will be transformed into the new basis appropriately. Let's now go to the more useful, standard rotating frame $|\\psi\\rangle \\to e^{iH't}|\\psi\\rangle $ with $H' = \\omega_0\\sigma_z$. Under these conditions, the effective Hamiltonisn we're dealing with is simply $\\tilde H = H-H' = -\\Omega(t)\\cos(2\\pi\\nu t)\\sigma_x$. At time $t=0$, then, we expect to have our RHS be $i\\sigma_x=-i\\tilde{H}(0)$"
   ],
   "metadata": {}
  },
  {
   "cell_type": "code",
   "execution_count": 7,
   "source": [
    "model.frame = np.array([1,-1])\n",
    "\n",
    "print(model(time))"
   ],
   "outputs": [
    {
     "output_type": "stream",
     "name": "stdout",
     "text": [
      "  (0, 1)\t0.5j\n",
      "  (1, 0)\t0.5j\n"
     ]
    }
   ],
   "metadata": {}
  },
  {
   "cell_type": "markdown",
   "source": [
    "Notice that the output of the model has changed from dense to sparse when we use a diagonal frame. This is because–in general–any non-diagonal frame operator will have some complicated basis transformation to make it diagonal. This complicated basis transformation will tend to make mathematically sparse matrices into mathematically dense ones, hence removing the performance advantage. Thus, we only retain the sparse matrices when the frame is diagonal. \n",
    "\n",
    "We of course also have the option of adding noise/dissipator terms. Once we add these terms, however, our state evolution is best described by the Lindblad equation $$\\dot\\rho = -i[H,\\rho]+\\sum_j \\gamma_j(t)\\left[ L_i\\rho L_i^\\dagger - \\frac{1}{2}\\left\\{L_i^\\dagger L_i,\\rho\\right\\}\\right]$$In particular, let there be just one dissipator term, with $\\gamma=1$ and $L = |g\\rangle\\langle e|$. The dissipator term of the time evolution should then read $$\\dot\\rho = -i[H,\\rho] + \\begin{pmatrix}-\\rho_{ee}&\\rho_{eg}/2\\\\\\rho_{ge}/2&\\rho_{ee}\\end{pmatrix}$$ a nice decay of the excited state. Let's work with $\\rho = |e\\rangle\\langle e|$"
   ],
   "metadata": {}
  },
  {
   "cell_type": "code",
   "execution_count": 8,
   "source": [
    "rho = np.diag([1,0])\n",
    "dissipator_operators = np.array([[[0,0],[1,0]]]) # |g><e|\n",
    "dissipator_signals = Signal(1,0,0)\n",
    "\n",
    "dis_model = LindbladModel(drive_operator,hamiltonian_signals=[drive_signal],drift=drift_operator,dissipator_signals=[dissipator_signals],dissipator_operators=dissipator_operators)"
   ],
   "outputs": [],
   "metadata": {}
  },
  {
   "cell_type": "code",
   "execution_count": 9,
   "source": [
    "dis_model(time,rho)"
   ],
   "outputs": [
    {
     "output_type": "execute_result",
     "data": {
      "text/plain": [
       "Array([[-1.+0.j ,  0.-0.5j],\n",
       "       [ 0.+0.5j,  1.+0.j ]], backend='numpy')"
      ]
     },
     "metadata": {},
     "execution_count": 9
    }
   ],
   "metadata": {}
  },
  {
   "cell_type": "markdown",
   "source": [
    "Here, we can see the diagonal terms coming from the dissipation, as well as the off-diagonal, $\\sigma_y$-like terms coming from the Hamiltonian contribution. This is confirmed by directly calculating the Hamiltonian: "
   ],
   "metadata": {}
  },
  {
   "cell_type": "code",
   "execution_count": 10,
   "source": [
    "h = dis_model.evaluate_hamiltonian(time)\n",
    "print(h)\n",
    "print(h @ rho - rho @ h)"
   ],
   "outputs": [
    {
     "output_type": "stream",
     "name": "stdout",
     "text": [
      "[[ 1.  -0.5]\n",
      " [-0.5 -1. ]]\n",
      "[[ 0.   0.5]\n",
      " [-0.5  0. ]]\n"
     ]
    }
   ],
   "metadata": {}
  },
  {
   "cell_type": "markdown",
   "source": [
    "And of course, the same evaluation-mode setting works with dissipative models. \n",
    "\n",
    "This also gives a good chance to showcase vectorization, which allows us to write the Lindbladian as a simpler GeneratorModel, at the cost of larger dimension dimension (hence higher memory usage & longer computation times). This can be necessary for some solvers. One upside is that–when vectorized–we can directly evaluate the generator of the model, something that is not possible with the base `evaluation_mode=dense` mode for the LindbladModel. "
   ],
   "metadata": {}
  },
  {
   "cell_type": "code",
   "execution_count": 11,
   "source": [
    "dis_model.evaluation_mode = \"dense_vectorized\"\n",
    "\n",
    "vectorized_generator = dis_model(time)\n",
    "print(vectorized_generator)\n",
    "print((vectorized_generator @ rho.flatten(order=\"F\")).reshape((2,2),order=\"F\"))\n",
    "\n",
    "dis_model.evaluation_mode = \"sparse\"\n",
    "print(dis_model(time,rho))"
   ],
   "outputs": [
    {
     "output_type": "stream",
     "name": "stdout",
     "text": [
      "[[-1. +0.j   0. +0.5j  0. -0.5j  0. +0.j ]\n",
      " [ 0. +0.5j -0.5+2.j   0. +0.j   0. -0.5j]\n",
      " [ 0. -0.5j  0. +0.j  -0.5-2.j   0. +0.5j]\n",
      " [ 1. +0.j   0. -0.5j  0. +0.5j  0. +0.j ]]\n",
      "[[-1.+0.j   0.-0.5j]\n",
      " [ 0.+0.5j  1.+0.j ]]\n",
      "[[-1.+0.j   0.-0.5j]\n",
      " [ 0.+0.5j  1.+0.j ]]\n"
     ]
    }
   ],
   "metadata": {}
  },
  {
   "cell_type": "markdown",
   "source": [
    "All of these evaluation modes are vectorized in the programming sense. In the case of any pure-left-multiplication evaluation mode (GeneratorModel, HamiltonianModel, and _importantly_ Vectorized LindbladModel), we evaluate multiple states simultaneously by storing them in a matrix $\\Psi:\\Psi_{ij}$ is the $i^{th}$ component of the $j^{th}$ state. In the case of the two other Lindbladian evaluation modes, `sparse` and `dense`, we store this as a 3-index tensor $R:R_{ijk}=(\\rho_i)_{jk}$. "
   ],
   "metadata": {}
  },
  {
   "cell_type": "code",
   "execution_count": 12,
   "source": [
    "states = np.array([[1,0],[1,1]])\n",
    "\n",
    "model.evaluation_mode=\"dense\"\n",
    "print(np.round(model(time,states),3))\n",
    "model.evaluation_mode=\"sparse\"\n",
    "print(model(time,states))"
   ],
   "outputs": [
    {
     "output_type": "stream",
     "name": "stdout",
     "text": [
      "[[0.+0.5j 0.+0.5j]\n",
      " [0.+0.5j 0.-0.j ]]\n",
      "[[0.+0.5j 0.+0.5j]\n",
      " [0.+0.5j 0.-0.j ]]\n"
     ]
    }
   ],
   "metadata": {}
  },
  {
   "cell_type": "code",
   "execution_count": 13,
   "source": [
    "rhos = np.array([np.diag([1,0]),np.diag([0,-1])])\n",
    "\n",
    "dis_model.evaluation_mode = \"dense\"\n",
    "print(dis_model(time,rhos),\"\\n\")\n",
    "dis_model.evaluation_mode = \"sparse\"\n",
    "print(dis_model(time,rhos),\"\\n\")\n",
    "dis_model.evaluation_mode = \"dense_vectorized\"\n",
    "rhos = np.reshape(rhos,(2,4),order=\"F\").transpose()\n",
    "print(dis_model(time,rhos),\"\\n\")"
   ],
   "outputs": [
    {
     "output_type": "stream",
     "name": "stdout",
     "text": [
      "[[[-1.+0.j   0.-0.5j]\n",
      "  [ 0.+0.5j  1.+0.j ]]\n",
      "\n",
      " [[ 0.+0.j   0.-0.5j]\n",
      "  [ 0.+0.5j  0.+0.j ]]] \n",
      "\n",
      "[[[-1.+0.j   0.-0.5j]\n",
      "  [ 0.+0.5j  1.+0.j ]]\n",
      "\n",
      " [[ 0.+0.j   0.-0.5j]\n",
      "  [ 0.+0.5j  0.+0.j ]]] \n",
      "\n",
      "[[-1.+0.j   0.+0.j ]\n",
      " [ 0.+0.5j  0.+0.5j]\n",
      " [ 0.-0.5j  0.-0.5j]\n",
      " [ 1.+0.j   0.+0.j ]] \n",
      "\n"
     ]
    }
   ],
   "metadata": {}
  },
  {
   "cell_type": "markdown",
   "source": [
    "All of these operations also work with rotating frames, as well. In the case of `GeneratorModel`/`HamiltonianModel`s, a frame transformation is of the form $y\\to e^{-tF}y$; in the case of a `LindbladModel`, it is of the form $\\rho\\to e^{-tF}\\rho e^{tF}$. "
   ],
   "metadata": {}
  },
  {
   "cell_type": "code",
   "execution_count": 14,
   "source": [
    "model.frame = np.array([1,-1])\n",
    "\n",
    "model.evaluation_mode = \"dense\"\n",
    "print(\"Dense:\\n\",np.round(model(time),4))\n",
    "print(np.round(model(time,state),4),\"\\n\\nSparse:\")\n",
    "\n",
    "model.evaluation_mode = \"sparse\"\n",
    "print(model(time)) # should be sparse matrix if frame argument is 1D (diagonal), but dense if 2D\n",
    "print(np.round(model(time,state),4))"
   ],
   "outputs": [
    {
     "output_type": "stream",
     "name": "stdout",
     "text": [
      "Dense:\n",
      " [[0.+0.j  0.+0.5j]\n",
      " [0.+0.5j 0.-0.j ]]\n",
      "[0.+0.5j 0.-0.j ] \n",
      "\n",
      "Sparse:\n",
      "  (0, 1)\t0.5j\n",
      "  (1, 0)\t0.5j\n",
      "[0.+0.5j 0.-0.j ]\n"
     ]
    }
   ],
   "metadata": {}
  },
  {
   "cell_type": "code",
   "execution_count": 15,
   "source": [
    "dis_model.frame = np.array([1,-1])\n",
    "\n",
    "dis_model.evaluation_mode = \"dense\"\n",
    "print(dis_model(time,rho))\n",
    "print(dis_model.evaluate_hamiltonian(time))"
   ],
   "outputs": [
    {
     "output_type": "stream",
     "name": "stdout",
     "text": [
      "[[-1.+0.j   0.-0.5j]\n",
      " [ 0.+0.5j  1.+0.j ]]\n",
      "[[ 0. +0.j -0.5+0.j]\n",
      " [-0.5+0.j  0. +0.j]]\n"
     ]
    }
   ],
   "metadata": {}
  },
  {
   "cell_type": "code",
   "execution_count": 16,
   "source": [
    "dis_model.evaluation_mode = \"sparse\"\n",
    "print(dis_model(time,rho))\n",
    "print(dis_model.evaluate_hamiltonian(time))"
   ],
   "outputs": [
    {
     "output_type": "stream",
     "name": "stdout",
     "text": [
      "[[-1.+0.j   0.-0.5j]\n",
      " [ 0.+0.5j  1.+0.j ]]\n",
      "  (0, 1)\t(-0.5+0j)\n",
      "  (1, 0)\t(-0.5+0j)\n"
     ]
    }
   ],
   "metadata": {}
  },
  {
   "cell_type": "code",
   "execution_count": 17,
   "source": [
    "dis_model.evaluation_mode = \"dense_vectorized\"\n",
    "print(dis_model(time,rho.flatten(order=\"F\")))\n",
    "print(dis_model.evaluate_hamiltonian(time))"
   ],
   "outputs": [
    {
     "output_type": "stream",
     "name": "stdout",
     "text": [
      "[-1.+0.j   0.+0.5j  0.-0.5j  1.+0.j ]\n",
      "[ 0. +0.j -0.5+0.j -0.5+0.j  0. +0.j]\n"
     ]
    }
   ],
   "metadata": {}
  },
  {
   "cell_type": "markdown",
   "source": [
    "Because we have vectorized the `LindbladModel` here, we can evaluate its generator directly, in the rotating frame, without reference to a state. Although the frame rotations (conjugation by $e^{\\pm tF}$) are written in a fairly optimized manner, they are still quite slow–primarily becasue they must assign and calculate `dim^4` values for the frame transformations, rather than the `2dim^2` values if it can use the further-optimized methods for evaluation given a state. Thus, this generator evaluation method should really only be used if it needs to be used without reference to the state–evaluating it, then left-multiplying a state is much slower than the alternative. "
   ],
   "metadata": {}
  },
  {
   "cell_type": "code",
   "execution_count": 18,
   "source": [
    "gen = dis_model.evaluate_generator(time)\n",
    "print(gen @ rho.flatten(\"F\")) # equivalent, but much slower.\n",
    "print(gen)"
   ],
   "outputs": [
    {
     "output_type": "stream",
     "name": "stdout",
     "text": [
      "[-1.+0.j   0.+0.5j  0.-0.5j  1.+0.j ]\n",
      "[[-1. +0.j   0. +0.5j  0. -0.5j  0. +0.j ]\n",
      " [ 0. +0.5j -0.5+0.j   0. +0.j   0. -0.5j]\n",
      " [ 0. -0.5j  0. +0.j  -0.5+0.j   0. +0.5j]\n",
      " [ 1. +0.j   0. -0.5j  0. +0.5j  0. +0.j ]]\n"
     ]
    }
   ],
   "metadata": {}
  },
  {
   "cell_type": "markdown",
   "source": [
    "Finally, we can perform the rotating wave approximation through the function `perform_rotating_wave_approximation`, which sends `Model`$\\to$`Model` types, applying the rotating wave approximation by removing all components that are rotating (in the frame) at some frequency above a `cutoff_freq`[uency]. If we expand our Hamiltonian in the rotating frame, which–as a reminder–is given by $$\\tilde H(t) = e^{i\\sigma_z t}(e^{-t^2/18}\\sigma_x/2)e^{-i\\sigma_z t}=\\left(\n",
    "\\begin{array}{cc}\n",
    " 0 & -\\frac{1}{4} e^{-\\frac{t^2}{18}+i t}-\\frac{1}{4} e^{-\\frac{t^2}{18}+3 i t} \\\\\n",
    " -\\frac{1}{4} e^{-\\frac{t^2}{18}+i t}-\\frac{1}{4} e^{-\\frac{t^2}{18}+3 i t} & 0 \\\\\n",
    "\\end{array}\n",
    "\\right)$$\n",
    "\n",
    "we can readily observe that there are terms with frequency of magnitude $3/2\\pi$ and $1/2\\pi$. If we set a cutoff frequency of $1/\\pi$, then, we expect that we will be left only with the $e^{\\pm it}$ terms. \n",
    "\n",
    "`perform_rotating_wave_approximation` functions by effectively adding redundant terms to our Hamiltonian/Dissipator terms that incorporate the frequency-filtering behavior we want, so it can increase memory use by about a factor of two over the original model, so it is important to use it carefully. With that said, it is a very useful functionality. "
   ],
   "metadata": {}
  },
  {
   "cell_type": "code",
   "execution_count": 19,
   "source": [
    "new_model,f=perform_rotating_wave_approximation(model,1/np.pi)\n",
    "new_model.evaluation_mode=\"dense\"\n",
    "print(np.round(new_model(time),3))\n",
    "new_model.evaluation_mode=\"sparse\"\n",
    "print(np.round(new_model(time),3))"
   ],
   "outputs": [
    {
     "output_type": "stream",
     "name": "stdout",
     "text": [
      "[[-0.-0.j    0.+0.25j]\n",
      " [-0.+0.25j  0.-0.j  ]]\n",
      "  (1, 0)\t(-0+0.25j)\n",
      "  (0, 1)\t0.25j\n"
     ]
    }
   ],
   "metadata": {}
  },
  {
   "cell_type": "markdown",
   "source": [
    "The function $f$ that is also passed by the RWA function is intended to make setting Signal values easier. In particular, becasue of the way that `perform_rotating_wave_approximation` works, we need a map that takes `SignalList`$\\to$`SignalList`, so that the user only needs to specify signals in the way they would to the pre-RWA model; passing them through $f$ will then convert them to the necessary post-RWA format.\n",
    "\n",
    "It is important to note that changing the frequencies by setting new `Signal` objects could make the RWA invalid calculation at the new `Signal` values. Thus, changing the signals should be done only when it's certain that the new frequencies will not invalidate the RWA calculations. "
   ],
   "metadata": {}
  },
  {
   "cell_type": "code",
   "execution_count": 20,
   "source": [
    "# add a pi/2 phase shift\n",
    "new_model.signals = f([Signal(Omega,nu,np.pi/2)])\n",
    "\n",
    "print(np.round(new_model(time),3))"
   ],
   "outputs": [
    {
     "output_type": "stream",
     "name": "stdout",
     "text": [
      "  (1, 0)\t(-0.25+0j)\n",
      "  (0, 1)\t(0.25+0j)\n"
     ]
    }
   ],
   "metadata": {}
  },
  {
   "cell_type": "markdown",
   "source": [
    "We can also perform the RWA on `LindbladModel`s. Because of the more complicated and second-order dependence on the dissipator terms $L_i$, however, it's not as straightforward as the Hamiltonian case. In particular, it is difficult to represent the RWA as a simple map between collections of dissipators, $\\{L_i\\}\\to\\{L_j'\\}$–possibly impossible without more than doubling the memory usage. Currently, the RWA functionality treates dissipator terms exactly as it treats Hamiltonian terms, which should mean that–for the most part–it may be a more strong approximation for the dissipator terms. "
   ],
   "metadata": {}
  },
  {
   "cell_type": "code",
   "execution_count": 21,
   "source": [
    "dis_model.evaluation_mode=\"dense\"\n",
    "new_dis_model,f=perform_rotating_wave_approximation(dis_model,1/np.pi)\n",
    "print(np.round(new_dis_model.evaluate_hamiltonian(time),3))\n",
    "print(np.round(new_dis_model(time,rho),3))"
   ],
   "outputs": [
    {
     "output_type": "stream",
     "name": "stdout",
     "text": [
      "[[ 0.  +0.j -0.25+0.j]\n",
      " [-0.25-0.j  0.  +0.j]]\n",
      "[[ 0.+0.j   -0.-0.25j]\n",
      " [-0.+0.25j  0.+0.j  ]]\n"
     ]
    }
   ],
   "metadata": {}
  },
  {
   "cell_type": "markdown",
   "source": [
    "Note that our dissipator term has been removed, despite seeming to be time-invariant. This is due to the way to the perhaps-needlessly-stringent RWA functionality. In particular, becasue we set $L=|g\\rangle\\langle e|$ with no associated frequency ($\\gamma = 1$), and because our frame effectively introduces a frequency of $\\pm 1/\\pi$ on the two off-diagonal entries, the dissipator terms are just past the threshold for being pruned. If we use even a marginally smaller cutoff, we'll get back the dissipator terms: "
   ],
   "metadata": {}
  },
  {
   "cell_type": "code",
   "execution_count": 22,
   "source": [
    "dis_model.evaluation_mode=\"sparse\"\n",
    "new_dis_model,f=perform_rotating_wave_approximation(dis_model,1.001/np.pi)\n",
    "print(np.round(new_dis_model.evaluate_hamiltonian(time),3))\n",
    "print(np.round(new_dis_model(time,rho),3))"
   ],
   "outputs": [
    {
     "output_type": "stream",
     "name": "stdout",
     "text": [
      "  (1, 0)\t(-0.25-0j)\n",
      "  (0, 1)\t(-0.25+0j)\n",
      "[[-1.+0.j   -0.-0.25j]\n",
      " [-0.+0.25j  1.+0.j  ]]\n"
     ]
    }
   ],
   "metadata": {}
  },
  {
   "cell_type": "markdown",
   "source": [
    "# Takeaways: \n",
    "\n",
    "1. `OperatorCollection`s provide a modular way for `Model` classes to use and easily switch between different evaluation modes. \n",
    "    \n",
    "    a. Easier to implement new evaluation modes without cluttering every `Model` class\n",
    "    \n",
    "    b. Allows `Models` to work in four steps, each of which is modular and separated from the main `Model` implementation. \n",
    "\n",
    "\n",
    "2. Rotating Wave Approximation is now handled by a function mapping `Model` classes to other `Model` classes\n",
    "\n",
    "    a. Clearer interface on the user side with easy signal handling for translating pre-RWA to post-RWA. \n",
    "\n",
    "    b. Core functionality is implmented in helper functions, which makes future RWA implementations easier\n",
    "\n",
    "    c. Most of the `perform_rotating_wave_approximation` function is simply casework to determine which type of model it is \n",
    "        dealing with, along with a smal bit of special handling for each `Model` class. This makes adding new `Model` classes\n",
    "        relatively straightforward. \n",
    "\n",
    "\n",
    "3. Additional features added over the past few weeks\n",
    "\n",
    "    a. Non-vectorized `LindbladModel` evaluation and `RotatingFrame` support for `LindbladModel`s. \n",
    "\n",
    "    b. Basic sparse matrix operator storage and calculation (`csr_matrix`)\n",
    "\n",
    "    c. Rotating frames & basis transformations for vectorized evaluation are implemented in a manner that's simpler to the user \n",
    "        (e.g. passing only $F$, and the `Frame` object figuring out how to deal with vectorized operators).\n",
    "\n",
    "    d. Diagonal frame operators no longer waste time changing bases. \n",
    "\n",
    "    e. Optimizations to speed in a few existing places, as well as several rounds of optimization within `OperatorCollection`s.\n",
    "\n",
    "    f. `evaluate_hamiltonian` functionality for `LindbladModel`"
   ],
   "metadata": {}
  },
  {
   "cell_type": "markdown",
   "source": [],
   "metadata": {}
  }
 ],
 "metadata": {
  "orig_nbformat": 4,
  "language_info": {
   "name": "python",
   "version": "3.9.1",
   "mimetype": "text/x-python",
   "codemirror_mode": {
    "name": "ipython",
    "version": 3
   },
   "pygments_lexer": "ipython3",
   "nbconvert_exporter": "python",
   "file_extension": ".py"
  },
  "kernelspec": {
   "name": "python3",
   "display_name": "Python 3.9.1 64-bit ('base': conda)"
  },
  "interpreter": {
   "hash": "eb411da3053a7693eff01eace9911d65b26ce6d8d2bd8b5334141d8d06adc99c"
  }
 },
 "nbformat": 4,
 "nbformat_minor": 2
}