{
 "cells": [
  {
   "cell_type": "code",
   "execution_count": 1,
   "source": [
    "from matplotlib import pyplot as plt\n",
    "import numpy as np\n",
    "from qiskit.quantum_info.operators import Operator\n",
    "from qiskit_dynamics import solve_lmde\n",
    "from qiskit_dynamics.signals import Signal\n",
    "from qiskit_dynamics.models import HamiltonianModel"
   ],
   "outputs": [],
   "metadata": {}
  },
  {
   "cell_type": "markdown",
   "source": [
    "# In this demo\n",
    "\n",
    "We show how `qiskit_dynamics` can be used with the `jax` backend to perform transformations like just-in-time compiling and gradient computation."
   ],
   "metadata": {}
  },
  {
   "cell_type": "code",
   "execution_count": 2,
   "source": [
    "from qiskit_dynamics import dispatch\n",
    "from qiskit_dynamics.dispatch import Array\n",
    "from jax import config\n",
    "import jax\n",
    "\n",
    "jit = dispatch.wrap(jax.jit, decorator=True)\n",
    "grad = dispatch.wrap(jax.grad, decorator=True)\n",
    "\n",
    "config.update(\"jax_enable_x64\", True)\n",
    "\n",
    "dispatch.set_default_backend('jax')\n",
    "\n",
    "def gaussian(amp, sig, t0, t):\n",
    "    # Note: to enforce using the jax backend for the computation of the gaussian, wrap the\n",
    "    # input to the numpy function in an Array\n",
    "    return amp * np.exp( -Array((t - t0)**2 / (2 * sig**2)))"
   ],
   "outputs": [],
   "metadata": {}
  },
  {
   "cell_type": "markdown",
   "source": [
    "# 1. `jit`: Just-in-time compiling a parameterized simulation\n",
    "\n",
    "Here we show we can speed up a parameterized simulation through just-in-time compiling. This is useful in situations such as:\n",
    "- Simulating a variety of pulses in a parameterized family\n",
    "- Simulating a system over a range of model parameters\n",
    "\n",
    "One way to do this is the following. First, construct a model with just operators."
   ],
   "metadata": {}
  },
  {
   "cell_type": "code",
   "execution_count": 3,
   "source": [
    "#####################\n",
    "# construct operators\n",
    "#####################\n",
    "r = 0.5\n",
    "w = 1.\n",
    "X = Operator.from_label('X')\n",
    "Y = Operator.from_label('Y')\n",
    "Z = Operator.from_label('Z')\n",
    "\n",
    "operators = [2 * np.pi * w * Z/2, \n",
    "             2 * np.pi * r * X/2]\n",
    "\n",
    "#####################################\n",
    "# construct model with just operators\n",
    "#####################################\n",
    "\n",
    "hamiltonian = HamiltonianModel(operators=operators)"
   ],
   "outputs": [
    {
     "output_type": "stream",
     "name": "stderr",
     "text": [
      "WARNING:absl:No GPU/TPU found, falling back to CPU. (Set TF_CPP_MIN_LOG_LEVEL=0 and rerun for more info.)\n"
     ]
    }
   ],
   "metadata": {}
  },
  {
   "cell_type": "markdown",
   "source": [
    "Next, define a function which takes the simulation input parameters and outputs the results. In this case, we parameterize a gaussian drive pulse, set it into the model, then solve and return the results.\n",
    "\n",
    "*Important note*:\n",
    "- When applying `jax` transformations, it is important to ensure the function is _pure_, i.e. it has no side effects. As we need to set the signals into the model, to keep the function pure we first make a copy.\n",
    "\n",
    "Additional note:\n",
    "- The `solve` function will automatically use the `scipy` solver. To make the full function jax compatible, we must specify a jax solver. Here `jax_odeint` is the equivalent of the `DOP853` algorithm in `scipy`."
   ],
   "metadata": {}
  },
  {
   "cell_type": "code",
   "execution_count": 4,
   "source": [
    "def sim_function(amp, sig):\n",
    "    \n",
    "    # define signals from parameters\n",
    "    t0 = 3.5*sig\n",
    "    T = 7*sig\n",
    "    gaussian_envelope = lambda t: gaussian(amp, sig, t0, t)\n",
    "    signals = [1., \n",
    "               Signal(envelope=gaussian_envelope, carrier_freq=w)]\n",
    "    \n",
    "    # make copy and set signals\n",
    "    ham_copy = hamiltonian.copy()\n",
    "    ham_copy.signals = signals\n",
    "    ham_copy.frame = ham_copy.get_drift()\n",
    "    \n",
    "    # simulate and return results\n",
    "    # setting user_frame tells solve that states should be specified and returned in the frame\n",
    "    # of the drift\n",
    "    results = solve_lmde(ham_copy, y0=np.array([0., 1.], dtype=complex), t_span=[0,T], \n",
    "                         method='jax_odeint', atol=1e-10, rtol=1e-10)\n",
    "    return results.y[-1]\n",
    "\n",
    "# default parameters for doing a pi pulse\n",
    "amp = 1.\n",
    "sig = 0.399128/r\n",
    "    "
   ],
   "outputs": [],
   "metadata": {}
  },
  {
   "cell_type": "markdown",
   "source": [
    "Next, compile the function by calling `jax.jit`."
   ],
   "metadata": {}
  },
  {
   "cell_type": "code",
   "execution_count": 5,
   "source": [
    "fast_sim = jit(sim_function)"
   ],
   "outputs": [],
   "metadata": {}
  },
  {
   "cell_type": "markdown",
   "source": [
    "Run the simulation once.\n",
    "\n",
    "Note: the function is only compiled when it is called for the first time. Hence, the first call is slower due to this overhead."
   ],
   "metadata": {}
  },
  {
   "cell_type": "code",
   "execution_count": 6,
   "source": [
    "%time fast_sim(2*amp, 2*sig).block_until_ready()"
   ],
   "outputs": [
    {
     "output_type": "stream",
     "name": "stdout",
     "text": [
      "CPU times: user 754 ms, sys: 10.8 ms, total: 765 ms\n",
      "Wall time: 759 ms\n"
     ]
    },
    {
     "output_type": "execute_result",
     "data": {
      "text/plain": [
       "Array([-0.01469478-0.02316957j, -0.87381816-0.48547816j])"
      ]
     },
     "metadata": {},
     "execution_count": 6
    }
   ],
   "metadata": {}
  },
  {
   "cell_type": "markdown",
   "source": [
    "Call a second time:"
   ],
   "metadata": {}
  },
  {
   "cell_type": "code",
   "execution_count": 7,
   "source": [
    "%time fast_sim(amp, sig).block_until_ready()"
   ],
   "outputs": [
    {
     "output_type": "stream",
     "name": "stdout",
     "text": [
      "CPU times: user 1.31 ms, sys: 1.27 ms, total: 2.59 ms\n",
      "Wall time: 937 µs\n"
     ]
    },
    {
     "output_type": "execute_result",
     "data": {
      "text/plain": [
       "Array([0.96087419-0.27193942j, 0.0511707 +0.01230027j])"
      ]
     },
     "metadata": {},
     "execution_count": 7
    }
   ],
   "metadata": {}
  },
  {
   "cell_type": "markdown",
   "source": [
    "For speed comparison, the same simulation using the `numpy` backend and the corresponding `scipy` solver takes about `200ms`. Hence, the compiled simulation is almost 2 orders of magnitude faster."
   ],
   "metadata": {}
  },
  {
   "cell_type": "markdown",
   "source": [
    "# 2. Automatic differentiation\n",
    "\n",
    "In addition to compilation, `jax` has a variety of function transformations for taking derivatives of functions. The most basic such function is `jax.grad`, which transforms a real scalar-valued function into one that computes its gradient.\n",
    "\n",
    "To demonstrate this, we modify the simulation function into one that outputs the excited state population (to convert it into something with a real/scalar output)."
   ],
   "metadata": {}
  },
  {
   "cell_type": "code",
   "execution_count": 8,
   "source": [
    "def excited_state_pop(amp):\n",
    "    yf = sim_function(amp, sig)\n",
    "    return np.abs(Array(yf[0]))**2\n",
    "    \n",
    "\n",
    "excited_state_pop(amp)"
   ],
   "outputs": [
    {
     "output_type": "execute_result",
     "data": {
      "text/plain": [
       "Array(0.99723026)"
      ]
     },
     "metadata": {},
     "execution_count": 8
    }
   ],
   "metadata": {}
  },
  {
   "cell_type": "markdown",
   "source": [
    "Next, take the gradient. Here, we also compile the gradient."
   ],
   "metadata": {}
  },
  {
   "cell_type": "code",
   "execution_count": 9,
   "source": [
    "excited_state_grad = jit(grad(excited_state_pop))"
   ],
   "outputs": [],
   "metadata": {}
  },
  {
   "cell_type": "code",
   "execution_count": 10,
   "source": [
    "%time excited_state_grad(2 * amp).block_until_ready()"
   ],
   "outputs": [
    {
     "output_type": "stream",
     "name": "stdout",
     "text": [
      "CPU times: user 2.06 s, sys: 0 ns, total: 2.06 s\n",
      "Wall time: 2.05 s\n"
     ]
    },
    {
     "output_type": "execute_result",
     "data": {
      "text/plain": [
       "Array(-0.03250497)"
      ]
     },
     "metadata": {},
     "execution_count": 10
    }
   ],
   "metadata": {}
  },
  {
   "cell_type": "code",
   "execution_count": 11,
   "source": [
    "%time excited_state_grad(amp).block_until_ready()"
   ],
   "outputs": [
    {
     "output_type": "stream",
     "name": "stdout",
     "text": [
      "CPU times: user 2.93 ms, sys: 0 ns, total: 2.93 ms\n",
      "Wall time: 1.71 ms\n"
     ]
    },
    {
     "output_type": "execute_result",
     "data": {
      "text/plain": [
       "Array(-0.00128185)"
      ]
     },
     "metadata": {},
     "execution_count": 11
    }
   ],
   "metadata": {}
  },
  {
   "cell_type": "markdown",
   "source": [
    "Note: the derivative at the default `amp` value is near $0$ as the parameters used are near a $\\pi$-pulse, and as such near a maximum of the population function."
   ],
   "metadata": {}
  },
  {
   "cell_type": "markdown",
   "source": [
    "# 3. State tracking\n",
    "\n",
    "Our wrapper for the `jax` integrators also supports the `t_eval` argument in the style of `scipy`'s `solve_ivp`. We can use this argument to view the state of the solution over an interval.\n",
    "\n",
    "Note: if `t_eval` is included, both `t_span` and `t_eval` will be handled with pure numpy, and so compilation will treat `t_span` as a static parameter."
   ],
   "metadata": {}
  },
  {
   "cell_type": "code",
   "execution_count": 12,
   "source": [
    "def sim_function(amp):\n",
    "    \n",
    "    # define signals from parameters\n",
    "    sig = 0.399128/r\n",
    "    t0 = 3.5*sig\n",
    "    T = 7*sig\n",
    "    gaussian_envelope = lambda t: gaussian(amp, sig, t0, t)\n",
    "    signals = [1., \n",
    "               Signal(envelope=gaussian_envelope, carrier_freq=w)]\n",
    "    \n",
    "    # make copy and set signals\n",
    "    ham_copy = hamiltonian.copy()\n",
    "    ham_copy.signals = signals\n",
    "    ham_copy.frame = ham_copy.get_drift()\n",
    "    \n",
    "    # simulate and return results\n",
    "    # setting user_frame tells solve that states should be specified and returned in the frame\n",
    "    # of the drift\n",
    "    results = solve_lmde(ham_copy, y0=np.array([0., 1.], dtype=complex), t_span=[0,T], \n",
    "                         t_eval=np.linspace(0, T, 100), method='jax_odeint', atol=1e-10, rtol=1e-10)\n",
    "    return results.y.data"
   ],
   "outputs": [],
   "metadata": {}
  },
  {
   "cell_type": "code",
   "execution_count": 13,
   "source": [
    "jitted = jit(sim_function)"
   ],
   "outputs": [],
   "metadata": {}
  },
  {
   "cell_type": "code",
   "execution_count": 14,
   "source": [
    "T = 7 * 0.399128 / r\n",
    "\n",
    "for amp in np.linspace(0, 1, 10):\n",
    "    ys = jitted(amp)\n",
    "    plt.plot(np.linspace(0, T, 100), np.real(np.abs(ys[:, 0])**2-np.abs(ys[:, 1])**2))"
   ],
   "outputs": [
    {
     "output_type": "error",
     "ename": "AttributeError",
     "evalue": "'HamiltonianModel' object has no attribute 'drift'",
     "traceback": [
      "\u001b[0;31m---------------------------------------------------------------------------\u001b[0m",
      "\u001b[0;31mAttributeError\u001b[0m                            Traceback (most recent call last)",
      "\u001b[0;32m<ipython-input-14-2d4035736071>\u001b[0m in \u001b[0;36m<module>\u001b[0;34m\u001b[0m\n\u001b[1;32m      2\u001b[0m \u001b[0;34m\u001b[0m\u001b[0m\n\u001b[1;32m      3\u001b[0m \u001b[0;32mfor\u001b[0m \u001b[0mamp\u001b[0m \u001b[0;32min\u001b[0m \u001b[0mnp\u001b[0m\u001b[0;34m.\u001b[0m\u001b[0mlinspace\u001b[0m\u001b[0;34m(\u001b[0m\u001b[0;36m0\u001b[0m\u001b[0;34m,\u001b[0m \u001b[0;36m1\u001b[0m\u001b[0;34m,\u001b[0m \u001b[0;36m10\u001b[0m\u001b[0;34m)\u001b[0m\u001b[0;34m:\u001b[0m\u001b[0;34m\u001b[0m\u001b[0;34m\u001b[0m\u001b[0m\n\u001b[0;32m----> 4\u001b[0;31m     \u001b[0mys\u001b[0m \u001b[0;34m=\u001b[0m \u001b[0mjitted\u001b[0m\u001b[0;34m(\u001b[0m\u001b[0mamp\u001b[0m\u001b[0;34m)\u001b[0m\u001b[0;34m\u001b[0m\u001b[0;34m\u001b[0m\u001b[0m\n\u001b[0m\u001b[1;32m      5\u001b[0m     \u001b[0mplt\u001b[0m\u001b[0;34m.\u001b[0m\u001b[0mplot\u001b[0m\u001b[0;34m(\u001b[0m\u001b[0mnp\u001b[0m\u001b[0;34m.\u001b[0m\u001b[0mlinspace\u001b[0m\u001b[0;34m(\u001b[0m\u001b[0;36m0\u001b[0m\u001b[0;34m,\u001b[0m \u001b[0mT\u001b[0m\u001b[0;34m,\u001b[0m \u001b[0;36m100\u001b[0m\u001b[0;34m)\u001b[0m\u001b[0;34m,\u001b[0m \u001b[0mnp\u001b[0m\u001b[0;34m.\u001b[0m\u001b[0mreal\u001b[0m\u001b[0;34m(\u001b[0m\u001b[0mnp\u001b[0m\u001b[0;34m.\u001b[0m\u001b[0mabs\u001b[0m\u001b[0;34m(\u001b[0m\u001b[0mys\u001b[0m\u001b[0;34m[\u001b[0m\u001b[0;34m:\u001b[0m\u001b[0;34m,\u001b[0m \u001b[0;36m0\u001b[0m\u001b[0;34m]\u001b[0m\u001b[0;34m)\u001b[0m\u001b[0;34m**\u001b[0m\u001b[0;36m2\u001b[0m\u001b[0;34m-\u001b[0m\u001b[0mnp\u001b[0m\u001b[0;34m.\u001b[0m\u001b[0mabs\u001b[0m\u001b[0;34m(\u001b[0m\u001b[0mys\u001b[0m\u001b[0;34m[\u001b[0m\u001b[0;34m:\u001b[0m\u001b[0;34m,\u001b[0m \u001b[0;36m1\u001b[0m\u001b[0;34m]\u001b[0m\u001b[0;34m)\u001b[0m\u001b[0;34m**\u001b[0m\u001b[0;36m2\u001b[0m\u001b[0;34m)\u001b[0m\u001b[0;34m)\u001b[0m\u001b[0;34m\u001b[0m\u001b[0;34m\u001b[0m\u001b[0m\n",
      "\u001b[0;32m~/VSCodeWorkspace/QURIP/qiskit_dynamics_work/qiskit-dynamics/qiskit_dynamics/dispatch/wrap.py\u001b[0m in \u001b[0;36mwrapped_decorated\u001b[0;34m(*f_args, **f_kwargs)\u001b[0m\n\u001b[1;32m     87\u001b[0m                 \u001b[0;32mfor\u001b[0m \u001b[0mkey\u001b[0m\u001b[0;34m,\u001b[0m \u001b[0mval\u001b[0m \u001b[0;32min\u001b[0m \u001b[0mf_kwargs\u001b[0m\u001b[0;34m.\u001b[0m\u001b[0mitems\u001b[0m\u001b[0;34m(\u001b[0m\u001b[0;34m)\u001b[0m\u001b[0;34m\u001b[0m\u001b[0;34m\u001b[0m\u001b[0m\n\u001b[1;32m     88\u001b[0m             )\n\u001b[0;32m---> 89\u001b[0;31m             \u001b[0mresult\u001b[0m \u001b[0;34m=\u001b[0m \u001b[0m_wrap_function\u001b[0m\u001b[0;34m(\u001b[0m\u001b[0mdecorated\u001b[0m\u001b[0;34m)\u001b[0m\u001b[0;34m(\u001b[0m\u001b[0;34m*\u001b[0m\u001b[0mf_args\u001b[0m\u001b[0;34m,\u001b[0m \u001b[0;34m**\u001b[0m\u001b[0mf_kwargs\u001b[0m\u001b[0;34m)\u001b[0m\u001b[0;34m\u001b[0m\u001b[0;34m\u001b[0m\u001b[0m\n\u001b[0m\u001b[1;32m     90\u001b[0m \u001b[0;34m\u001b[0m\u001b[0m\n\u001b[1;32m     91\u001b[0m             \u001b[0;32mif\u001b[0m \u001b[0mwrap_return\u001b[0m\u001b[0;34m:\u001b[0m\u001b[0;34m\u001b[0m\u001b[0;34m\u001b[0m\u001b[0m\n",
      "\u001b[0;32m~/VSCodeWorkspace/QURIP/qiskit_dynamics_work/qiskit-dynamics/qiskit_dynamics/dispatch/wrap.py\u001b[0m in \u001b[0;36mwrapped_function\u001b[0;34m(*args, **kwargs)\u001b[0m\n\u001b[1;32m    114\u001b[0m \u001b[0;34m\u001b[0m\u001b[0m\n\u001b[1;32m    115\u001b[0m         \u001b[0;31m# Evaluate function with unwrapped inputs\u001b[0m\u001b[0;34m\u001b[0m\u001b[0;34m\u001b[0m\u001b[0;34m\u001b[0m\u001b[0m\n\u001b[0;32m--> 116\u001b[0;31m         \u001b[0mresult\u001b[0m \u001b[0;34m=\u001b[0m \u001b[0mfunc\u001b[0m\u001b[0;34m(\u001b[0m\u001b[0;34m*\u001b[0m\u001b[0margs\u001b[0m\u001b[0;34m,\u001b[0m \u001b[0;34m**\u001b[0m\u001b[0mkwargs\u001b[0m\u001b[0;34m)\u001b[0m\u001b[0;34m\u001b[0m\u001b[0;34m\u001b[0m\u001b[0m\n\u001b[0m\u001b[1;32m    117\u001b[0m \u001b[0;34m\u001b[0m\u001b[0m\n\u001b[1;32m    118\u001b[0m         \u001b[0;31m# Unwrap result\u001b[0m\u001b[0;34m\u001b[0m\u001b[0;34m\u001b[0m\u001b[0;34m\u001b[0m\u001b[0m\n",
      "    \u001b[0;31m[... skipping hidden 12 frame]\u001b[0m\n",
      "\u001b[0;32m~/VSCodeWorkspace/QURIP/qiskit_dynamics_work/qiskit-dynamics/qiskit_dynamics/dispatch/wrap.py\u001b[0m in \u001b[0;36mwrapped_function\u001b[0;34m(*args, **kwargs)\u001b[0m\n\u001b[1;32m    114\u001b[0m \u001b[0;34m\u001b[0m\u001b[0m\n\u001b[1;32m    115\u001b[0m         \u001b[0;31m# Evaluate function with unwrapped inputs\u001b[0m\u001b[0;34m\u001b[0m\u001b[0;34m\u001b[0m\u001b[0;34m\u001b[0m\u001b[0m\n\u001b[0;32m--> 116\u001b[0;31m         \u001b[0mresult\u001b[0m \u001b[0;34m=\u001b[0m \u001b[0mfunc\u001b[0m\u001b[0;34m(\u001b[0m\u001b[0;34m*\u001b[0m\u001b[0margs\u001b[0m\u001b[0;34m,\u001b[0m \u001b[0;34m**\u001b[0m\u001b[0mkwargs\u001b[0m\u001b[0;34m)\u001b[0m\u001b[0;34m\u001b[0m\u001b[0;34m\u001b[0m\u001b[0m\n\u001b[0m\u001b[1;32m    117\u001b[0m \u001b[0;34m\u001b[0m\u001b[0m\n\u001b[1;32m    118\u001b[0m         \u001b[0;31m# Unwrap result\u001b[0m\u001b[0;34m\u001b[0m\u001b[0;34m\u001b[0m\u001b[0;34m\u001b[0m\u001b[0m\n",
      "\u001b[0;32m<ipython-input-12-7571f793c76a>\u001b[0m in \u001b[0;36msim_function\u001b[0;34m(amp)\u001b[0m\n\u001b[1;32m     12\u001b[0m     \u001b[0mham_copy\u001b[0m \u001b[0;34m=\u001b[0m \u001b[0mhamiltonian\u001b[0m\u001b[0;34m.\u001b[0m\u001b[0mcopy\u001b[0m\u001b[0;34m(\u001b[0m\u001b[0;34m)\u001b[0m\u001b[0;34m\u001b[0m\u001b[0;34m\u001b[0m\u001b[0m\n\u001b[1;32m     13\u001b[0m     \u001b[0mham_copy\u001b[0m\u001b[0;34m.\u001b[0m\u001b[0msignals\u001b[0m \u001b[0;34m=\u001b[0m \u001b[0msignals\u001b[0m\u001b[0;34m\u001b[0m\u001b[0;34m\u001b[0m\u001b[0m\n\u001b[0;32m---> 14\u001b[0;31m     \u001b[0mham_copy\u001b[0m\u001b[0;34m.\u001b[0m\u001b[0mframe\u001b[0m \u001b[0;34m=\u001b[0m \u001b[0mham_copy\u001b[0m\u001b[0;34m.\u001b[0m\u001b[0mdrift\u001b[0m\u001b[0;34m\u001b[0m\u001b[0;34m\u001b[0m\u001b[0m\n\u001b[0m\u001b[1;32m     15\u001b[0m \u001b[0;34m\u001b[0m\u001b[0m\n\u001b[1;32m     16\u001b[0m     \u001b[0;31m# simulate and return results\u001b[0m\u001b[0;34m\u001b[0m\u001b[0;34m\u001b[0m\u001b[0;34m\u001b[0m\u001b[0m\n",
      "\u001b[0;31mAttributeError\u001b[0m: 'HamiltonianModel' object has no attribute 'drift'"
     ]
    }
   ],
   "metadata": {}
  },
  {
   "cell_type": "markdown",
   "source": [
    "In the above oscillatory behaviour is due to the RWA not being entirely accurate in this system."
   ],
   "metadata": {}
  },
  {
   "cell_type": "code",
   "execution_count": null,
   "source": [],
   "outputs": [],
   "metadata": {}
  }
 ],
 "metadata": {
  "kernelspec": {
   "name": "python3",
   "display_name": "Python 3.8.5 64-bit ('base': conda)"
  },
  "language_info": {
   "codemirror_mode": {
    "name": "ipython",
    "version": 3
   },
   "file_extension": ".py",
   "mimetype": "text/x-python",
   "name": "python",
   "nbconvert_exporter": "python",
   "pygments_lexer": "ipython3",
   "version": "3.8.5"
  },
  "interpreter": {
   "hash": "5e5310ab1df1c80c820dafd4ba8dc30a2e69417f6a636c7d3a734a0f9d392399"
  }
 },
 "nbformat": 4,
 "nbformat_minor": 4
}